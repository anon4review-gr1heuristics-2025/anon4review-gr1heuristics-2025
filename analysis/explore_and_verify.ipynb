{
 "cells": [
  {
   "cell_type": "markdown",
   "metadata": {
    "id": "ydE-A3C6ConM"
   },
   "source": [
    "# EVALUATION NOTEBOOK for TACAS 2025 PAPER"
   ]
  },
  {
   "cell_type": "code",
   "metadata": {
    "id": "MI702ICmKEvU",
    "ExecuteTime": {
     "end_time": "2024-10-19T21:04:58.778Z",
     "start_time": "2024-10-19T21:04:58.775122Z"
    }
   },
   "source": [
    "from load_data import load_data_mult\n",
    "\n",
    "baseline_runconfig='NOTHING'"
   ],
   "outputs": [],
   "execution_count": 31
  },
  {
   "cell_type": "code",
   "metadata": {
    "ExecuteTime": {
     "end_time": "2024-10-19T21:04:58.824905Z",
     "start_time": "2024-10-19T21:04:58.821516Z"
    }
   },
   "source": [
    "import helper_methods\n",
    "import load_data\n",
    "import pandas as pd\n",
    "import matplotlib.pyplot as plt\n",
    "\n",
    "import group_methods\n",
    "import result_analysis\n",
    "import numpy as np\n",
    "import validate"
   ],
   "outputs": [],
   "execution_count": 32
  },
  {
   "cell_type": "markdown",
   "metadata": {
    "id": "-tHtZmuL21Pq"
   },
   "source": [
    "# Load CSV"
   ]
  },
  {
   "cell_type": "markdown",
   "metadata": {
    "id": "vNcF16L67j9K"
   },
   "source": [
    "### Mult"
   ]
  },
  {
   "cell_type": "code",
   "metadata": {
    "colab": {
     "base_uri": "https://localhost:8080/",
     "height": 229
    },
    "id": "MfUClyQx51m4",
    "outputId": "a7763af2-705c-4f03-fdcd-9ebf918309d2",
    "ExecuteTime": {
     "end_time": "2024-10-19T21:04:58.960444Z",
     "start_time": "2024-10-19T21:04:58.906118Z"
    }
   },
   "source": [
    "df_raw= load_data.load_data_mult()"
   ],
   "outputs": [
    {
     "name": "stdout",
     "output_type": "stream",
     "text": [
      "Found 2 CSV file(s) in the 'analysis_csv' directory.\n",
      "Loaded: all_runs_new_SPLIT1_ws1_20241009_235902.csv\n",
      "Number of specs in this file: 80\n",
      "Loaded: all_runs_new_SPLIT2_ws2_20241009_221236.csv\n",
      "Number of specs in this file: 98\n",
      "Total number of files loaded: 2\n",
      "Total Specs: 178\n",
      "Final DataFrame shape: (1068, 88)\n"
     ]
    }
   ],
   "execution_count": 33
  },
  {
   "cell_type": "code",
   "metadata": {
    "id": "OsNt3Hsohuzj",
    "ExecuteTime": {
     "end_time": "2024-10-19T21:04:59.105834Z",
     "start_time": "2024-10-19T21:04:59.101826Z"
    }
   },
   "source": [
    "df = df_raw"
   ],
   "outputs": [],
   "execution_count": 34
  },
  {
   "cell_type": "code",
   "metadata": {
    "ExecuteTime": {
     "end_time": "2024-10-19T21:04:59.243949Z",
     "start_time": "2024-10-19T21:04:59.221940Z"
    }
   },
   "source": [
    "df.head()"
   ],
   "outputs": [
    {
     "data": {
      "text/plain": [
       "         Spec RunConfig    UniqueIdentifier  TIMEOUT       ActionType  \\\n",
       "0  1670057023   NOTHING  1670057023.spectra        0  WELL_SEPARATION   \n",
       "1  1670057023     FINAL  1670057023.spectra        0  WELL_SEPARATION   \n",
       "2  1670057023   NOTHING  1670057023.spectra        0  WELL_SEPARATION   \n",
       "3  1670057023     FINAL  1670057023.spectra        0  WELL_SEPARATION   \n",
       "4  1670057023   NOTHING  1670057023.spectra        0  WELL_SEPARATION   \n",
       "\n",
       "       Result                                         CONFIG_TXT  \\\n",
       "0  NOT_STRONG  TEMP: false, SORT_AFTERWARDS: false, GROUP_OPT...   \n",
       "1  NOT_STRONG  TEMP: false, SORT_AFTERWARDS: false, GROUP_OPT...   \n",
       "2  NOT_STRONG  TEMP: false, SORT_AFTERWARDS: false, GROUP_OPT...   \n",
       "3  NOT_STRONG  TEMP: false, SORT_AFTERWARDS: false, GROUP_OPT...   \n",
       "4  NOT_STRONG  TEMP: false, SORT_AFTERWARDS: false, GROUP_OPT...   \n",
       "\n",
       "   INITIAL_BDD_TIME  HEURISTICS_TIME  SECOND_STEP_TIME  ...  \\\n",
       "0              1906                0               531  ...   \n",
       "1              1859               94               375  ...   \n",
       "2              1828                0               532  ...   \n",
       "3              1860              109               375  ...   \n",
       "4              1844               15               532  ...   \n",
       "\n",
       "                                     IMPORT           UNIQUE_PATTERNS  \\\n",
       "0         import \"DwyerPatternsNew.spectra\"  S_responds_to_P_globally   \n",
       "1  import \"DwyerPatternsNewReduced.spectra\"  S_responds_to_P_globally   \n",
       "2         import \"DwyerPatternsNew.spectra\"  S_responds_to_P_globally   \n",
       "3  import \"DwyerPatternsNewReduced.spectra\"  S_responds_to_P_globally   \n",
       "4         import \"DwyerPatternsNew.spectra\"  S_responds_to_P_globally   \n",
       "\n",
       "   PATTERN_INSTANCES TRIGGER_INSTANCES MONITORS_INSTANCES COUNTERS_INSTANCES  \\\n",
       "0                  3                 1              False              False   \n",
       "1                  3                 1              False              False   \n",
       "2                  3                 1              False              False   \n",
       "3                  3                 1              False              False   \n",
       "4                  3                 1              False              False   \n",
       "\n",
       "  REDUCED_PATTERN  REDUCED_TRIGGER  SWAPPED_TO_ORIGINAL  ADDITIONAL  \n",
       "0              []               []                  NaN         NaN  \n",
       "1              []   [REMOVED_HOLE]                  NaN         NaN  \n",
       "2              []               []                  NaN         NaN  \n",
       "3              []   [REMOVED_HOLE]                  NaN         NaN  \n",
       "4              []               []                  NaN         NaN  \n",
       "\n",
       "[5 rows x 88 columns]"
      ],
      "text/html": [
       "<div>\n",
       "<style scoped>\n",
       "    .dataframe tbody tr th:only-of-type {\n",
       "        vertical-align: middle;\n",
       "    }\n",
       "\n",
       "    .dataframe tbody tr th {\n",
       "        vertical-align: top;\n",
       "    }\n",
       "\n",
       "    .dataframe thead th {\n",
       "        text-align: right;\n",
       "    }\n",
       "</style>\n",
       "<table border=\"1\" class=\"dataframe\">\n",
       "  <thead>\n",
       "    <tr style=\"text-align: right;\">\n",
       "      <th></th>\n",
       "      <th>Spec</th>\n",
       "      <th>RunConfig</th>\n",
       "      <th>UniqueIdentifier</th>\n",
       "      <th>TIMEOUT</th>\n",
       "      <th>ActionType</th>\n",
       "      <th>Result</th>\n",
       "      <th>CONFIG_TXT</th>\n",
       "      <th>INITIAL_BDD_TIME</th>\n",
       "      <th>HEURISTICS_TIME</th>\n",
       "      <th>SECOND_STEP_TIME</th>\n",
       "      <th>...</th>\n",
       "      <th>IMPORT</th>\n",
       "      <th>UNIQUE_PATTERNS</th>\n",
       "      <th>PATTERN_INSTANCES</th>\n",
       "      <th>TRIGGER_INSTANCES</th>\n",
       "      <th>MONITORS_INSTANCES</th>\n",
       "      <th>COUNTERS_INSTANCES</th>\n",
       "      <th>REDUCED_PATTERN</th>\n",
       "      <th>REDUCED_TRIGGER</th>\n",
       "      <th>SWAPPED_TO_ORIGINAL</th>\n",
       "      <th>ADDITIONAL</th>\n",
       "    </tr>\n",
       "  </thead>\n",
       "  <tbody>\n",
       "    <tr>\n",
       "      <th>0</th>\n",
       "      <td>1670057023</td>\n",
       "      <td>NOTHING</td>\n",
       "      <td>1670057023.spectra</td>\n",
       "      <td>0</td>\n",
       "      <td>WELL_SEPARATION</td>\n",
       "      <td>NOT_STRONG</td>\n",
       "      <td>TEMP: false, SORT_AFTERWARDS: false, GROUP_OPT...</td>\n",
       "      <td>1906</td>\n",
       "      <td>0</td>\n",
       "      <td>531</td>\n",
       "      <td>...</td>\n",
       "      <td>import \"DwyerPatternsNew.spectra\"</td>\n",
       "      <td>S_responds_to_P_globally</td>\n",
       "      <td>3</td>\n",
       "      <td>1</td>\n",
       "      <td>False</td>\n",
       "      <td>False</td>\n",
       "      <td>[]</td>\n",
       "      <td>[]</td>\n",
       "      <td>NaN</td>\n",
       "      <td>NaN</td>\n",
       "    </tr>\n",
       "    <tr>\n",
       "      <th>1</th>\n",
       "      <td>1670057023</td>\n",
       "      <td>FINAL</td>\n",
       "      <td>1670057023.spectra</td>\n",
       "      <td>0</td>\n",
       "      <td>WELL_SEPARATION</td>\n",
       "      <td>NOT_STRONG</td>\n",
       "      <td>TEMP: false, SORT_AFTERWARDS: false, GROUP_OPT...</td>\n",
       "      <td>1859</td>\n",
       "      <td>94</td>\n",
       "      <td>375</td>\n",
       "      <td>...</td>\n",
       "      <td>import \"DwyerPatternsNewReduced.spectra\"</td>\n",
       "      <td>S_responds_to_P_globally</td>\n",
       "      <td>3</td>\n",
       "      <td>1</td>\n",
       "      <td>False</td>\n",
       "      <td>False</td>\n",
       "      <td>[]</td>\n",
       "      <td>[REMOVED_HOLE]</td>\n",
       "      <td>NaN</td>\n",
       "      <td>NaN</td>\n",
       "    </tr>\n",
       "    <tr>\n",
       "      <th>2</th>\n",
       "      <td>1670057023</td>\n",
       "      <td>NOTHING</td>\n",
       "      <td>1670057023.spectra</td>\n",
       "      <td>0</td>\n",
       "      <td>WELL_SEPARATION</td>\n",
       "      <td>NOT_STRONG</td>\n",
       "      <td>TEMP: false, SORT_AFTERWARDS: false, GROUP_OPT...</td>\n",
       "      <td>1828</td>\n",
       "      <td>0</td>\n",
       "      <td>532</td>\n",
       "      <td>...</td>\n",
       "      <td>import \"DwyerPatternsNew.spectra\"</td>\n",
       "      <td>S_responds_to_P_globally</td>\n",
       "      <td>3</td>\n",
       "      <td>1</td>\n",
       "      <td>False</td>\n",
       "      <td>False</td>\n",
       "      <td>[]</td>\n",
       "      <td>[]</td>\n",
       "      <td>NaN</td>\n",
       "      <td>NaN</td>\n",
       "    </tr>\n",
       "    <tr>\n",
       "      <th>3</th>\n",
       "      <td>1670057023</td>\n",
       "      <td>FINAL</td>\n",
       "      <td>1670057023.spectra</td>\n",
       "      <td>0</td>\n",
       "      <td>WELL_SEPARATION</td>\n",
       "      <td>NOT_STRONG</td>\n",
       "      <td>TEMP: false, SORT_AFTERWARDS: false, GROUP_OPT...</td>\n",
       "      <td>1860</td>\n",
       "      <td>109</td>\n",
       "      <td>375</td>\n",
       "      <td>...</td>\n",
       "      <td>import \"DwyerPatternsNewReduced.spectra\"</td>\n",
       "      <td>S_responds_to_P_globally</td>\n",
       "      <td>3</td>\n",
       "      <td>1</td>\n",
       "      <td>False</td>\n",
       "      <td>False</td>\n",
       "      <td>[]</td>\n",
       "      <td>[REMOVED_HOLE]</td>\n",
       "      <td>NaN</td>\n",
       "      <td>NaN</td>\n",
       "    </tr>\n",
       "    <tr>\n",
       "      <th>4</th>\n",
       "      <td>1670057023</td>\n",
       "      <td>NOTHING</td>\n",
       "      <td>1670057023.spectra</td>\n",
       "      <td>0</td>\n",
       "      <td>WELL_SEPARATION</td>\n",
       "      <td>NOT_STRONG</td>\n",
       "      <td>TEMP: false, SORT_AFTERWARDS: false, GROUP_OPT...</td>\n",
       "      <td>1844</td>\n",
       "      <td>15</td>\n",
       "      <td>532</td>\n",
       "      <td>...</td>\n",
       "      <td>import \"DwyerPatternsNew.spectra\"</td>\n",
       "      <td>S_responds_to_P_globally</td>\n",
       "      <td>3</td>\n",
       "      <td>1</td>\n",
       "      <td>False</td>\n",
       "      <td>False</td>\n",
       "      <td>[]</td>\n",
       "      <td>[]</td>\n",
       "      <td>NaN</td>\n",
       "      <td>NaN</td>\n",
       "    </tr>\n",
       "  </tbody>\n",
       "</table>\n",
       "<p>5 rows × 88 columns</p>\n",
       "</div>"
      ]
     },
     "execution_count": 35,
     "metadata": {},
     "output_type": "execute_result"
    }
   ],
   "execution_count": 35
  },
  {
   "cell_type": "code",
   "metadata": {
    "ExecuteTime": {
     "end_time": "2024-10-19T21:04:59.392473Z",
     "start_time": "2024-10-19T21:04:59.385702Z"
    }
   },
   "source": [
    "(df['Spec'] == '1670358342').any()"
   ],
   "outputs": [
    {
     "data": {
      "text/plain": [
       "True"
      ]
     },
     "execution_count": 36,
     "metadata": {},
     "output_type": "execute_result"
    }
   ],
   "execution_count": 36
  },
  {
   "cell_type": "markdown",
   "metadata": {},
   "source": [
    "# Exploration #1\n",
    "Before aggregation or handling the TIMEOUT"
   ]
  },
  {
   "cell_type": "markdown",
   "metadata": {},
   "source": [
    "### Columns"
   ]
  },
  {
   "cell_type": "code",
   "metadata": {
    "colab": {
     "base_uri": "https://localhost:8080/"
    },
    "id": "hZzCewz-LYSS",
    "outputId": "d31eeb57-7e2a-4ba9-9658-69a5272ae6dd",
    "ExecuteTime": {
     "end_time": "2024-10-19T21:04:59.627312Z",
     "start_time": "2024-10-19T21:04:59.622403Z"
    }
   },
   "source": [
    "df.columns"
   ],
   "outputs": [
    {
     "data": {
      "text/plain": [
       "Index(['Spec', 'RunConfig', 'UniqueIdentifier', 'TIMEOUT', 'ActionType',\n",
       "       'Result', 'CONFIG_TXT', 'INITIAL_BDD_TIME', 'HEURISTICS_TIME',\n",
       "       'SECOND_STEP_TIME', 'PARALLEL_OVERHEAD_TIME', 'WORK_TIME', 'TOTAL_TIME',\n",
       "       'PRE_ROYBDD_ORDER', 'POST_HEURISTICS_ORDER', 'POST_SECOND_STEP_ORDER',\n",
       "       'POST_WORK_ORDER', 'PRE_ROYBDD_NODE_SIZE', 'POST_HEURISTICS_NODE_SIZE',\n",
       "       'POST_SECOND_STEP_NODE_SIZE', 'POST_WORK_NODE_SIZE', 'AVERAGE_AUX_SIZE',\n",
       "       'AVERAGE_SYS_DOM_IN_CONSTRAINT', 'AVERAGE_ENV_DOM_IN_CONSTRAINT',\n",
       "       'AVERAGE_SYS_DOM_SIZE', 'AVERAGE_ENV_DOM_SIZE',\n",
       "       'AVERAGE_CONSTRAINT_COMPLEXITY', 'INTERCONNECTNESS_INDEX',\n",
       "       'TOTAL_REORDER_TIME', 'REORDER_CALL_AMOUNT', 'AVERAGE_REORDER_TIME',\n",
       "       'AVERAGE_REORDER_GAIN', 'Z_FIXPOINTS', 'Y_FIXPOINTS', 'X_FIXPOINTS',\n",
       "       'W_FIXPOINTS', 'REAL_CASES', 'UNREAL_CASES', 'REAL_TIME', 'UNREAL_TIME',\n",
       "       'GRAPH_DATA', 'CLUSTER_INC_DATA', 'CLUSTER_VAR_DATA',\n",
       "       'DOMAIN_GRAPH_DATA', 'CONSTRAINT_GRAPH_DATA', 'JUST_STRING_COUNT',\n",
       "       'JUST_STRING_ENV_COUNT', 'TRANS_STRING_SYS_COUNT',\n",
       "       'TRANS_STRING_ENV_COUNT', 'INI_STRING_ENV_COUNT',\n",
       "       'INI_STRING_SYS_COUNT', 'TOTAL_VARS', 'SYS_VARS', 'ENV_VARS',\n",
       "       'AUX_VARS', 'UNUSED_CONS_VARS', 'ARRAYS_INSTANCES', 'TOTAL_DOMS',\n",
       "       'SYS_DOMS', 'ENV_DOMS', 'AUX_DOMS', 'DOMS_NOT_QUANTIFIED',\n",
       "       'INI_SYS_CONSTRAINTS', 'INI_ENV_CONSTRAINTS', 'TRANS_ENV_CONSTRAINTS',\n",
       "       'TRANS_SYS_CONSTRAINTS', 'JUSTICE_SYS_AMOUNT', 'JUSTICE_ENV_AMOUNT',\n",
       "       'Z_SAT_COUNT', 'Z_SAT_COUNT_START_S0', 'TRANS_ENV_SAT', 'TRANS_SYS_SAT',\n",
       "       'JUSTS_SYS_SAT', 'JUSTS_ENV_SAT', 'INI_ENV_SAT', 'INI_SYS_SAT',\n",
       "       'FACTORY_TYPE', 'BDDPACKAGE', 'IMPORT', 'UNIQUE_PATTERNS',\n",
       "       'PATTERN_INSTANCES', 'TRIGGER_INSTANCES', 'MONITORS_INSTANCES',\n",
       "       'COUNTERS_INSTANCES', 'REDUCED_PATTERN', 'REDUCED_TRIGGER',\n",
       "       'SWAPPED_TO_ORIGINAL', 'ADDITIONAL'],\n",
       "      dtype='object')"
      ]
     },
     "execution_count": 37,
     "metadata": {},
     "output_type": "execute_result"
    }
   ],
   "execution_count": 37
  },
  {
   "cell_type": "code",
   "metadata": {
    "colab": {
     "base_uri": "https://localhost:8080/",
     "height": 424
    },
    "id": "2NkLfOiUnBV7",
    "outputId": "69db596b-678d-4160-db82-d4684567995b",
    "ExecuteTime": {
     "end_time": "2024-10-19T21:05:00.087024Z",
     "start_time": "2024-10-19T21:05:00.079560Z"
    }
   },
   "source": [
    "df[['WORK_TIME','ActionType']]"
   ],
   "outputs": [
    {
     "data": {
      "text/plain": [
       "      WORK_TIME       ActionType\n",
       "0           844  WELL_SEPARATION\n",
       "1          1391  WELL_SEPARATION\n",
       "2           890  WELL_SEPARATION\n",
       "3          1406  WELL_SEPARATION\n",
       "4           828  WELL_SEPARATION\n",
       "...         ...              ...\n",
       "1063         31  WELL_SEPARATION\n",
       "1064         32  WELL_SEPARATION\n",
       "1065         48  WELL_SEPARATION\n",
       "1066         16  WELL_SEPARATION\n",
       "1067         16  WELL_SEPARATION\n",
       "\n",
       "[1068 rows x 2 columns]"
      ],
      "text/html": [
       "<div>\n",
       "<style scoped>\n",
       "    .dataframe tbody tr th:only-of-type {\n",
       "        vertical-align: middle;\n",
       "    }\n",
       "\n",
       "    .dataframe tbody tr th {\n",
       "        vertical-align: top;\n",
       "    }\n",
       "\n",
       "    .dataframe thead th {\n",
       "        text-align: right;\n",
       "    }\n",
       "</style>\n",
       "<table border=\"1\" class=\"dataframe\">\n",
       "  <thead>\n",
       "    <tr style=\"text-align: right;\">\n",
       "      <th></th>\n",
       "      <th>WORK_TIME</th>\n",
       "      <th>ActionType</th>\n",
       "    </tr>\n",
       "  </thead>\n",
       "  <tbody>\n",
       "    <tr>\n",
       "      <th>0</th>\n",
       "      <td>844</td>\n",
       "      <td>WELL_SEPARATION</td>\n",
       "    </tr>\n",
       "    <tr>\n",
       "      <th>1</th>\n",
       "      <td>1391</td>\n",
       "      <td>WELL_SEPARATION</td>\n",
       "    </tr>\n",
       "    <tr>\n",
       "      <th>2</th>\n",
       "      <td>890</td>\n",
       "      <td>WELL_SEPARATION</td>\n",
       "    </tr>\n",
       "    <tr>\n",
       "      <th>3</th>\n",
       "      <td>1406</td>\n",
       "      <td>WELL_SEPARATION</td>\n",
       "    </tr>\n",
       "    <tr>\n",
       "      <th>4</th>\n",
       "      <td>828</td>\n",
       "      <td>WELL_SEPARATION</td>\n",
       "    </tr>\n",
       "    <tr>\n",
       "      <th>...</th>\n",
       "      <td>...</td>\n",
       "      <td>...</td>\n",
       "    </tr>\n",
       "    <tr>\n",
       "      <th>1063</th>\n",
       "      <td>31</td>\n",
       "      <td>WELL_SEPARATION</td>\n",
       "    </tr>\n",
       "    <tr>\n",
       "      <th>1064</th>\n",
       "      <td>32</td>\n",
       "      <td>WELL_SEPARATION</td>\n",
       "    </tr>\n",
       "    <tr>\n",
       "      <th>1065</th>\n",
       "      <td>48</td>\n",
       "      <td>WELL_SEPARATION</td>\n",
       "    </tr>\n",
       "    <tr>\n",
       "      <th>1066</th>\n",
       "      <td>16</td>\n",
       "      <td>WELL_SEPARATION</td>\n",
       "    </tr>\n",
       "    <tr>\n",
       "      <th>1067</th>\n",
       "      <td>16</td>\n",
       "      <td>WELL_SEPARATION</td>\n",
       "    </tr>\n",
       "  </tbody>\n",
       "</table>\n",
       "<p>1068 rows × 2 columns</p>\n",
       "</div>"
      ]
     },
     "execution_count": 38,
     "metadata": {},
     "output_type": "execute_result"
    }
   ],
   "execution_count": 38
  },
  {
   "metadata": {
    "ExecuteTime": {
     "end_time": "2024-10-19T21:05:00.422958Z",
     "start_time": "2024-10-19T21:05:00.414164Z"
    }
   },
   "cell_type": "code",
   "source": [
    "print(len(df['Spec'].unique()))\n",
    "df['Spec'].unique()"
   ],
   "outputs": [
    {
     "name": "stdout",
     "output_type": "stream",
     "text": [
      "178\n"
     ]
    },
    {
     "data": {
      "text/plain": [
       "array(['1670057023', '1669965418', '1669902814', 'RobotsMPUnlabelled3',\n",
       "       '1669665995', '1669987834', '1673819181', '1673821936',\n",
       "       '1670596941', '1669983090', '1670075718', '1670169894',\n",
       "       '1669915643', '1669983978', '1670075301', '1673547192',\n",
       "       '1670168548', 'variant-2-1', '1673630794', '1669666055',\n",
       "       'Junction-3', 'variant-3-4', '1673547609', '1669887914',\n",
       "       '1673468315', 'variant-2-4', '1669468393', '1669813890',\n",
       "       '1669640935', 'Cleaner-10', '1673469658', '1669982329',\n",
       "       '1673738881', '1673548346', '1670062922', 'Cleaner-8', 'Cleaner-6',\n",
       "       'variant-2-8', '1670597940', '1669981674', '1670597788',\n",
       "       '1669966004', 'variant-3-9', '1669666438', '1670061890',\n",
       "       '1670075033', '1670598571', '1669643605', 'Cleaner-3',\n",
       "       '1673985257', 'variant-3-1', '1673467002', '1673686645',\n",
       "       '1670066785', '1669968413', '1672860311', '1669902169',\n",
       "       '1669966483', '1673821729', '1673824914', '1673687376',\n",
       "       '1669901854', '1669966849', '1673451981', '1669889911',\n",
       "       '1673284757', '1669643093', '1672858012', '1673822218',\n",
       "       '1670598800', '1670050814', '1669901775', '1669979229',\n",
       "       '1670076351', '1670075111', '1670183448', 'Junction-9',\n",
       "       'RobotsMPChangingGoals3', '1673526961', '1673686196', '1670525188',\n",
       "       '1670682273', '1670547281', '1671484978', '1672504085',\n",
       "       '1670598869', '1670683343', '1672252755', '1672251775',\n",
       "       '1670437389', '1670359691', '1672066936', '1671315675',\n",
       "       '1670601592', '1670365989', '1671714085', '1671869051',\n",
       "       '1672079340', '1671826608', '1670677405', '1672504135',\n",
       "       '1670681904', '1670601816', '1670738782', '1671316084',\n",
       "       '1670675781', '1670680432', '1670541413', '1670363326',\n",
       "       '1672063201', '1670690776', '1670436954', '1672252408',\n",
       "       '1672074579', '1670700434', '1670436818', '1672066757',\n",
       "       '1671868039', '1670434378', '1670445328', '1672060600',\n",
       "       '1672502060', '1670700657', '1670358781', '1670434147',\n",
       "       '1672067450', '1672074788', '1670358342', '1670435709',\n",
       "       '1672062995', '1671724123', '1672675094', '1672060474',\n",
       "       '1670625089', '1670684411', '1670876023', '1670601155',\n",
       "       '1670538229', '1670691055', '1670683075', '1670437747',\n",
       "       '1670356244', '1670592348', '1671020662', '1672593028',\n",
       "       '1670600246', '1672593865', '1672065401', '1670435826',\n",
       "       '1670435006', '1671484761', '1671314413', '1670876318',\n",
       "       '1670446093', '1672074378', '1671828959', '1671471162',\n",
       "       '1671485503', '1671829654', '1672671866', '1670684461',\n",
       "       '1672674748', '1670524215', '1672251791',\n",
       "       'AirportShuttleProject_AirportShuttle1_AirportShuttle_161',\n",
       "       '1670702638', '1670438212', '1670449143', '1670680730',\n",
       "       '1670683778', '1672501937', '1672675485', '1670437578',\n",
       "       '1670436736', '1670542951', '1672062051', '1670601332',\n",
       "       '1672060813'], dtype=object)"
      ]
     },
     "execution_count": 39,
     "metadata": {},
     "output_type": "execute_result"
    }
   ],
   "execution_count": 39
  },
  {
   "cell_type": "code",
   "metadata": {
    "colab": {
     "base_uri": "https://localhost:8080/",
     "height": 424
    },
    "id": "yqp7zMh6LWol",
    "outputId": "0b6bfe5c-4e0d-44ae-adcb-3097334506dd",
    "ExecuteTime": {
     "end_time": "2024-10-19T21:05:00.715230Z",
     "start_time": "2024-10-19T21:05:00.706221Z"
    }
   },
   "source": [
    "df[['UNIQUE_PATTERNS','PATTERN_INSTANCES','TRIGGER_INSTANCES']]"
   ],
   "outputs": [
    {
     "data": {
      "text/plain": [
       "               UNIQUE_PATTERNS  PATTERN_INSTANCES  TRIGGER_INSTANCES\n",
       "0     S_responds_to_P_globally                  3                  1\n",
       "1     S_responds_to_P_globally                  3                  1\n",
       "2     S_responds_to_P_globally                  3                  1\n",
       "3     S_responds_to_P_globally                  3                  1\n",
       "4     S_responds_to_P_globally                  3                  1\n",
       "...                        ...                ...                ...\n",
       "1063                       NaN                  0                  2\n",
       "1064                       NaN                  0                  2\n",
       "1065                       NaN                  0                  2\n",
       "1066                       NaN                  0                  2\n",
       "1067                       NaN                  0                  2\n",
       "\n",
       "[1068 rows x 3 columns]"
      ],
      "text/html": [
       "<div>\n",
       "<style scoped>\n",
       "    .dataframe tbody tr th:only-of-type {\n",
       "        vertical-align: middle;\n",
       "    }\n",
       "\n",
       "    .dataframe tbody tr th {\n",
       "        vertical-align: top;\n",
       "    }\n",
       "\n",
       "    .dataframe thead th {\n",
       "        text-align: right;\n",
       "    }\n",
       "</style>\n",
       "<table border=\"1\" class=\"dataframe\">\n",
       "  <thead>\n",
       "    <tr style=\"text-align: right;\">\n",
       "      <th></th>\n",
       "      <th>UNIQUE_PATTERNS</th>\n",
       "      <th>PATTERN_INSTANCES</th>\n",
       "      <th>TRIGGER_INSTANCES</th>\n",
       "    </tr>\n",
       "  </thead>\n",
       "  <tbody>\n",
       "    <tr>\n",
       "      <th>0</th>\n",
       "      <td>S_responds_to_P_globally</td>\n",
       "      <td>3</td>\n",
       "      <td>1</td>\n",
       "    </tr>\n",
       "    <tr>\n",
       "      <th>1</th>\n",
       "      <td>S_responds_to_P_globally</td>\n",
       "      <td>3</td>\n",
       "      <td>1</td>\n",
       "    </tr>\n",
       "    <tr>\n",
       "      <th>2</th>\n",
       "      <td>S_responds_to_P_globally</td>\n",
       "      <td>3</td>\n",
       "      <td>1</td>\n",
       "    </tr>\n",
       "    <tr>\n",
       "      <th>3</th>\n",
       "      <td>S_responds_to_P_globally</td>\n",
       "      <td>3</td>\n",
       "      <td>1</td>\n",
       "    </tr>\n",
       "    <tr>\n",
       "      <th>4</th>\n",
       "      <td>S_responds_to_P_globally</td>\n",
       "      <td>3</td>\n",
       "      <td>1</td>\n",
       "    </tr>\n",
       "    <tr>\n",
       "      <th>...</th>\n",
       "      <td>...</td>\n",
       "      <td>...</td>\n",
       "      <td>...</td>\n",
       "    </tr>\n",
       "    <tr>\n",
       "      <th>1063</th>\n",
       "      <td>NaN</td>\n",
       "      <td>0</td>\n",
       "      <td>2</td>\n",
       "    </tr>\n",
       "    <tr>\n",
       "      <th>1064</th>\n",
       "      <td>NaN</td>\n",
       "      <td>0</td>\n",
       "      <td>2</td>\n",
       "    </tr>\n",
       "    <tr>\n",
       "      <th>1065</th>\n",
       "      <td>NaN</td>\n",
       "      <td>0</td>\n",
       "      <td>2</td>\n",
       "    </tr>\n",
       "    <tr>\n",
       "      <th>1066</th>\n",
       "      <td>NaN</td>\n",
       "      <td>0</td>\n",
       "      <td>2</td>\n",
       "    </tr>\n",
       "    <tr>\n",
       "      <th>1067</th>\n",
       "      <td>NaN</td>\n",
       "      <td>0</td>\n",
       "      <td>2</td>\n",
       "    </tr>\n",
       "  </tbody>\n",
       "</table>\n",
       "<p>1068 rows × 3 columns</p>\n",
       "</div>"
      ]
     },
     "execution_count": 40,
     "metadata": {},
     "output_type": "execute_result"
    }
   ],
   "execution_count": 40
  },
  {
   "cell_type": "markdown",
   "metadata": {
    "id": "izDHacWELfUq"
   },
   "source": [
    "### Possible Results"
   ]
  },
  {
   "cell_type": "code",
   "metadata": {
    "colab": {
     "base_uri": "https://localhost:8080/",
     "height": 178
    },
    "id": "PpYPHinVb917",
    "outputId": "f62c04c4-5f7f-41be-93da-a5709e2359f5",
    "ExecuteTime": {
     "end_time": "2024-10-19T21:05:01.052137Z",
     "start_time": "2024-10-19T21:05:01.044914Z"
    }
   },
   "source": [
    "df['Result'].drop_duplicates()"
   ],
   "outputs": [
    {
     "data": {
      "text/plain": [
       "0     NOT_STRONG\n",
       "18        STRONG\n",
       "Name: Result, dtype: object"
      ]
     },
     "execution_count": 41,
     "metadata": {},
     "output_type": "execute_result"
    }
   ],
   "execution_count": 41
  },
  {
   "cell_type": "markdown",
   "metadata": {
    "id": "ETPF4TQhLnCW"
   },
   "source": [
    "### Possible RunConfigs"
   ]
  },
  {
   "cell_type": "code",
   "metadata": {
    "colab": {
     "base_uri": "https://localhost:8080/"
    },
    "id": "BA87Ml1CLpZM",
    "outputId": "d292de7f-e009-40f7-ffe1-0fdab6bd6e94",
    "ExecuteTime": {
     "end_time": "2024-10-19T21:05:01.278990Z",
     "start_time": "2024-10-19T21:05:01.273999Z"
    }
   },
   "source": [
    "# All configs\n",
    "unique_configs = df['RunConfig'].unique()\n",
    "print(\"Unique RunConfigs:\")\n",
    "for config in unique_configs:\n",
    "    print(f\"- {config}\")"
   ],
   "outputs": [
    {
     "name": "stdout",
     "output_type": "stream",
     "text": [
      "Unique RunConfigs:\n",
      "- NOTHING\n",
      "- FINAL\n"
     ]
    }
   ],
   "execution_count": 42
  },
  {
   "cell_type": "markdown",
   "metadata": {
    "id": "6K74re8DM2rP"
   },
   "source": [
    "### Has missing in non-TIMEOUT"
   ]
  },
  {
   "cell_type": "code",
   "metadata": {
    "id": "Fe6mblwAMxRM",
    "ExecuteTime": {
     "end_time": "2024-10-19T21:05:01.520203Z",
     "start_time": "2024-10-19T21:05:01.514536Z"
    }
   },
   "source": [
    "if ((df[df['TIMEOUT']==0]['WORK_TIME'].isnull().values.any())):\n",
    "  raise ValueError('missing value')"
   ],
   "outputs": [],
   "execution_count": 43
  },
  {
   "cell_type": "markdown",
   "metadata": {
    "id": "uVbHvmKTHYj1"
   },
   "source": [
    "### Unique RunConfigs per Spec"
   ]
  },
  {
   "cell_type": "code",
   "metadata": {
    "colab": {
     "base_uri": "https://localhost:8080/"
    },
    "id": "N6GV72WWNCEU",
    "outputId": "5b11ee53-7c98-49a4-b596-ffbca956b2a7",
    "ExecuteTime": {
     "end_time": "2024-10-19T21:05:01.714998Z",
     "start_time": "2024-10-19T21:05:01.701310Z"
    }
   },
   "source": [
    "# Count RunConfigs per Spec\n",
    "config_counts = df.groupby('Spec')['RunConfig'].count()\n",
    "\n",
    "print(\"Number of RunConfigs per Spec:\")\n",
    "print(config_counts)\n",
    "\n",
    "print(f\"\\nUnique counts of RunConfigs per Spec: {config_counts.unique()}\")\n",
    "\n",
    "print(\"\\nSummary statistics of RunConfigs per Spec:\")\n",
    "print(config_counts.describe())"
   ],
   "outputs": [
    {
     "name": "stdout",
     "output_type": "stream",
     "text": [
      "Number of RunConfigs per Spec:\n",
      "Spec\n",
      "1669468393     6\n",
      "1669640935     6\n",
      "1669643093     6\n",
      "1669643605     6\n",
      "1669665995     6\n",
      "              ..\n",
      "variant-2-4    6\n",
      "variant-2-8    6\n",
      "variant-3-1    6\n",
      "variant-3-4    6\n",
      "variant-3-9    6\n",
      "Name: RunConfig, Length: 178, dtype: int64\n",
      "\n",
      "Unique counts of RunConfigs per Spec: [6]\n",
      "\n",
      "Summary statistics of RunConfigs per Spec:\n",
      "count    178.0\n",
      "mean       6.0\n",
      "std        0.0\n",
      "min        6.0\n",
      "25%        6.0\n",
      "50%        6.0\n",
      "75%        6.0\n",
      "max        6.0\n",
      "Name: RunConfig, dtype: float64\n"
     ]
    }
   ],
   "execution_count": 44
  },
  {
   "cell_type": "markdown",
   "metadata": {
    "id": "rptE6UajHecz"
   },
   "source": [
    "### Misc"
   ]
  },
  {
   "cell_type": "code",
   "metadata": {
    "colab": {
     "base_uri": "https://localhost:8080/",
     "height": 424
    },
    "id": "8q8KtoMZJE5G",
    "outputId": "76ffe10a-e797-48ab-a3a3-bf0bc0bdd612",
    "ExecuteTime": {
     "end_time": "2024-10-19T21:05:01.903395Z",
     "start_time": "2024-10-19T21:05:01.892157Z"
    }
   },
   "source": [
    "df[['Spec','RunConfig','Result','POST_SECOND_STEP_NODE_SIZE','WORK_TIME']]"
   ],
   "outputs": [
    {
     "data": {
      "text/plain": [
       "            Spec RunConfig      Result  POST_SECOND_STEP_NODE_SIZE  WORK_TIME\n",
       "0     1670057023   NOTHING  NOT_STRONG                       15877        844\n",
       "1     1670057023     FINAL  NOT_STRONG                       13521       1391\n",
       "2     1670057023   NOTHING  NOT_STRONG                       15047        890\n",
       "3     1670057023     FINAL  NOT_STRONG                       13521       1406\n",
       "4     1670057023   NOTHING  NOT_STRONG                       15467        828\n",
       "...          ...       ...         ...                         ...        ...\n",
       "1063  1672060813     FINAL      STRONG                        5787         31\n",
       "1064  1672060813   NOTHING      STRONG                       17238         32\n",
       "1065  1672060813     FINAL      STRONG                        6523         48\n",
       "1066  1672060813   NOTHING      STRONG                       18073         16\n",
       "1067  1672060813     FINAL      STRONG                        4067         16\n",
       "\n",
       "[1068 rows x 5 columns]"
      ],
      "text/html": [
       "<div>\n",
       "<style scoped>\n",
       "    .dataframe tbody tr th:only-of-type {\n",
       "        vertical-align: middle;\n",
       "    }\n",
       "\n",
       "    .dataframe tbody tr th {\n",
       "        vertical-align: top;\n",
       "    }\n",
       "\n",
       "    .dataframe thead th {\n",
       "        text-align: right;\n",
       "    }\n",
       "</style>\n",
       "<table border=\"1\" class=\"dataframe\">\n",
       "  <thead>\n",
       "    <tr style=\"text-align: right;\">\n",
       "      <th></th>\n",
       "      <th>Spec</th>\n",
       "      <th>RunConfig</th>\n",
       "      <th>Result</th>\n",
       "      <th>POST_SECOND_STEP_NODE_SIZE</th>\n",
       "      <th>WORK_TIME</th>\n",
       "    </tr>\n",
       "  </thead>\n",
       "  <tbody>\n",
       "    <tr>\n",
       "      <th>0</th>\n",
       "      <td>1670057023</td>\n",
       "      <td>NOTHING</td>\n",
       "      <td>NOT_STRONG</td>\n",
       "      <td>15877</td>\n",
       "      <td>844</td>\n",
       "    </tr>\n",
       "    <tr>\n",
       "      <th>1</th>\n",
       "      <td>1670057023</td>\n",
       "      <td>FINAL</td>\n",
       "      <td>NOT_STRONG</td>\n",
       "      <td>13521</td>\n",
       "      <td>1391</td>\n",
       "    </tr>\n",
       "    <tr>\n",
       "      <th>2</th>\n",
       "      <td>1670057023</td>\n",
       "      <td>NOTHING</td>\n",
       "      <td>NOT_STRONG</td>\n",
       "      <td>15047</td>\n",
       "      <td>890</td>\n",
       "    </tr>\n",
       "    <tr>\n",
       "      <th>3</th>\n",
       "      <td>1670057023</td>\n",
       "      <td>FINAL</td>\n",
       "      <td>NOT_STRONG</td>\n",
       "      <td>13521</td>\n",
       "      <td>1406</td>\n",
       "    </tr>\n",
       "    <tr>\n",
       "      <th>4</th>\n",
       "      <td>1670057023</td>\n",
       "      <td>NOTHING</td>\n",
       "      <td>NOT_STRONG</td>\n",
       "      <td>15467</td>\n",
       "      <td>828</td>\n",
       "    </tr>\n",
       "    <tr>\n",
       "      <th>...</th>\n",
       "      <td>...</td>\n",
       "      <td>...</td>\n",
       "      <td>...</td>\n",
       "      <td>...</td>\n",
       "      <td>...</td>\n",
       "    </tr>\n",
       "    <tr>\n",
       "      <th>1063</th>\n",
       "      <td>1672060813</td>\n",
       "      <td>FINAL</td>\n",
       "      <td>STRONG</td>\n",
       "      <td>5787</td>\n",
       "      <td>31</td>\n",
       "    </tr>\n",
       "    <tr>\n",
       "      <th>1064</th>\n",
       "      <td>1672060813</td>\n",
       "      <td>NOTHING</td>\n",
       "      <td>STRONG</td>\n",
       "      <td>17238</td>\n",
       "      <td>32</td>\n",
       "    </tr>\n",
       "    <tr>\n",
       "      <th>1065</th>\n",
       "      <td>1672060813</td>\n",
       "      <td>FINAL</td>\n",
       "      <td>STRONG</td>\n",
       "      <td>6523</td>\n",
       "      <td>48</td>\n",
       "    </tr>\n",
       "    <tr>\n",
       "      <th>1066</th>\n",
       "      <td>1672060813</td>\n",
       "      <td>NOTHING</td>\n",
       "      <td>STRONG</td>\n",
       "      <td>18073</td>\n",
       "      <td>16</td>\n",
       "    </tr>\n",
       "    <tr>\n",
       "      <th>1067</th>\n",
       "      <td>1672060813</td>\n",
       "      <td>FINAL</td>\n",
       "      <td>STRONG</td>\n",
       "      <td>4067</td>\n",
       "      <td>16</td>\n",
       "    </tr>\n",
       "  </tbody>\n",
       "</table>\n",
       "<p>1068 rows × 5 columns</p>\n",
       "</div>"
      ]
     },
     "execution_count": 45,
     "metadata": {},
     "output_type": "execute_result"
    }
   ],
   "execution_count": 45
  },
  {
   "cell_type": "markdown",
   "metadata": {
    "id": "rehg5_xBlYho"
   },
   "source": [
    "# Preprocess & Aggregation\n",
    "We ran 3 times each Spec + RunConfig [except for TIMEOUT]. We need to aggregate it."
   ]
  },
  {
   "cell_type": "markdown",
   "metadata": {
    "id": "_Ek5y8ojHhte"
   },
   "source": [
    "### Verify"
   ]
  },
  {
   "cell_type": "code",
   "metadata": {
    "colab": {
     "base_uri": "https://localhost:8080/"
    },
    "id": "GG0cT1RbHjLT",
    "outputId": "6aaff0b8-8da6-425d-bb8e-99b4040dd8aa",
    "ExecuteTime": {
     "end_time": "2024-10-19T21:05:01.995719Z",
     "start_time": "2024-10-19T21:05:01.957187Z"
    }
   },
   "source": [
    "# Group by Spec and RunConfig, compute Has_Timeout and Row_Count\n",
    "grouped = df.groupby(['Spec', 'RunConfig']).agg(\n",
    "    Has_Timeout=('TIMEOUT', lambda x: (x == 1).any()),\n",
    "    Row_Count=('TIMEOUT', 'size')\n",
    ").reset_index()\n",
    "\n",
    "# Filter groups where Has_Timeout is True\n",
    "timeout_counts = grouped[grouped['Has_Timeout']]\n",
    "\n",
    "# Check if all counts are 1\n",
    "all_ones = (timeout_counts['Row_Count'] == 1).all()\n",
    "\n",
    "print(f\"All Spec+RunConfig combinations with TIMEOUT=1 occur only once: {all_ones}\")"
   ],
   "outputs": [
    {
     "name": "stdout",
     "output_type": "stream",
     "text": [
      "All Spec+RunConfig combinations with TIMEOUT=1 occur only once: True\n"
     ]
    }
   ],
   "execution_count": 46
  },
  {
   "cell_type": "code",
   "metadata": {
    "colab": {
     "base_uri": "https://localhost:8080/",
     "height": 424
    },
    "id": "naIuiQl028sx",
    "outputId": "80b2a0cb-24ce-4ba9-a506-24ea0430c2a7",
    "ExecuteTime": {
     "end_time": "2024-10-19T21:05:02.206416Z",
     "start_time": "2024-10-19T21:05:02.198362Z"
    }
   },
   "source": [
    "grouped\n"
   ],
   "outputs": [
    {
     "data": {
      "text/plain": [
       "            Spec RunConfig  Has_Timeout  Row_Count\n",
       "0     1669468393     FINAL        False          3\n",
       "1     1669468393   NOTHING        False          3\n",
       "2     1669640935     FINAL        False          3\n",
       "3     1669640935   NOTHING        False          3\n",
       "4     1669643093     FINAL        False          3\n",
       "..           ...       ...          ...        ...\n",
       "351  variant-3-1   NOTHING        False          3\n",
       "352  variant-3-4     FINAL        False          3\n",
       "353  variant-3-4   NOTHING        False          3\n",
       "354  variant-3-9     FINAL        False          3\n",
       "355  variant-3-9   NOTHING        False          3\n",
       "\n",
       "[356 rows x 4 columns]"
      ],
      "text/html": [
       "<div>\n",
       "<style scoped>\n",
       "    .dataframe tbody tr th:only-of-type {\n",
       "        vertical-align: middle;\n",
       "    }\n",
       "\n",
       "    .dataframe tbody tr th {\n",
       "        vertical-align: top;\n",
       "    }\n",
       "\n",
       "    .dataframe thead th {\n",
       "        text-align: right;\n",
       "    }\n",
       "</style>\n",
       "<table border=\"1\" class=\"dataframe\">\n",
       "  <thead>\n",
       "    <tr style=\"text-align: right;\">\n",
       "      <th></th>\n",
       "      <th>Spec</th>\n",
       "      <th>RunConfig</th>\n",
       "      <th>Has_Timeout</th>\n",
       "      <th>Row_Count</th>\n",
       "    </tr>\n",
       "  </thead>\n",
       "  <tbody>\n",
       "    <tr>\n",
       "      <th>0</th>\n",
       "      <td>1669468393</td>\n",
       "      <td>FINAL</td>\n",
       "      <td>False</td>\n",
       "      <td>3</td>\n",
       "    </tr>\n",
       "    <tr>\n",
       "      <th>1</th>\n",
       "      <td>1669468393</td>\n",
       "      <td>NOTHING</td>\n",
       "      <td>False</td>\n",
       "      <td>3</td>\n",
       "    </tr>\n",
       "    <tr>\n",
       "      <th>2</th>\n",
       "      <td>1669640935</td>\n",
       "      <td>FINAL</td>\n",
       "      <td>False</td>\n",
       "      <td>3</td>\n",
       "    </tr>\n",
       "    <tr>\n",
       "      <th>3</th>\n",
       "      <td>1669640935</td>\n",
       "      <td>NOTHING</td>\n",
       "      <td>False</td>\n",
       "      <td>3</td>\n",
       "    </tr>\n",
       "    <tr>\n",
       "      <th>4</th>\n",
       "      <td>1669643093</td>\n",
       "      <td>FINAL</td>\n",
       "      <td>False</td>\n",
       "      <td>3</td>\n",
       "    </tr>\n",
       "    <tr>\n",
       "      <th>...</th>\n",
       "      <td>...</td>\n",
       "      <td>...</td>\n",
       "      <td>...</td>\n",
       "      <td>...</td>\n",
       "    </tr>\n",
       "    <tr>\n",
       "      <th>351</th>\n",
       "      <td>variant-3-1</td>\n",
       "      <td>NOTHING</td>\n",
       "      <td>False</td>\n",
       "      <td>3</td>\n",
       "    </tr>\n",
       "    <tr>\n",
       "      <th>352</th>\n",
       "      <td>variant-3-4</td>\n",
       "      <td>FINAL</td>\n",
       "      <td>False</td>\n",
       "      <td>3</td>\n",
       "    </tr>\n",
       "    <tr>\n",
       "      <th>353</th>\n",
       "      <td>variant-3-4</td>\n",
       "      <td>NOTHING</td>\n",
       "      <td>False</td>\n",
       "      <td>3</td>\n",
       "    </tr>\n",
       "    <tr>\n",
       "      <th>354</th>\n",
       "      <td>variant-3-9</td>\n",
       "      <td>FINAL</td>\n",
       "      <td>False</td>\n",
       "      <td>3</td>\n",
       "    </tr>\n",
       "    <tr>\n",
       "      <th>355</th>\n",
       "      <td>variant-3-9</td>\n",
       "      <td>NOTHING</td>\n",
       "      <td>False</td>\n",
       "      <td>3</td>\n",
       "    </tr>\n",
       "  </tbody>\n",
       "</table>\n",
       "<p>356 rows × 4 columns</p>\n",
       "</div>"
      ]
     },
     "execution_count": 47,
     "metadata": {},
     "output_type": "execute_result"
    }
   ],
   "execution_count": 47
  },
  {
   "cell_type": "markdown",
   "metadata": {
    "id": "5Z_QVHhoG7Ba"
   },
   "source": [
    "# Validation"
   ]
  },
  {
   "cell_type": "markdown",
   "metadata": {
    "id": "BSu_Wj_Rhw6c"
   },
   "source": [
    "## Validation Same Across Spec + Action\n",
    "Validation fields that should be equal for every Spec + Action rows"
   ]
  },
  {
   "cell_type": "code",
   "metadata": {
    "id": "styA2-NliOKu",
    "ExecuteTime": {
     "end_time": "2024-10-19T21:05:02.401425Z",
     "start_time": "2024-10-19T21:05:02.391504Z"
    }
   },
   "source": [
    "# Usage: RESULT is now ['Result']\n",
    "RESULT = ['Result']\n",
    "\n",
    "SAME_VARS_1 = ['TOTAL_VARS', 'SYS_VARS', 'ENV_VARS', 'AUX_VARS', 'TOTAL_DOMS', 'SYS_DOMS', 'ENV_DOMS', 'AUX_DOMS']\n",
    "               \n",
    "               \n",
    "VAR_META_DATA=[\n",
    "             'AVERAGE_AUX_SIZE', 'AVERAGE_SYS_DOM_IN_CONSTRAINT', 'AVERAGE_ENV_DOM_IN_CONSTRAINT',\n",
    "             'AVERAGE_SYS_DOM_SIZE', 'AVERAGE_ENV_DOM_SIZE']\n",
    "\n",
    "SAME_CONSTRAINTS = ['UNUSED_CONS_VARS']\n",
    "\n",
    "BDD = ['BDDPACKAGE', 'FACTORY_TYPE']\n",
    "\n",
    "FIXPOINT = ['Z_FIXPOINTS', 'Y_FIXPOINTS', 'X_FIXPOINTS', 'W_FIXPOINTS']\n",
    "\n",
    "SAT_RESULT = ['Z_SAT_COUNT', 'Z_SAT_COUNT_START_S0']\n",
    "SAT_GM = ['TRANS_ENV_SAT', 'TRANS_SYS_SAT',\n",
    "       'JUSTS_SYS_SAT', 'JUSTS_ENV_SAT', 'INI_ENV_SAT', 'INI_SYS_SAT']\n",
    "\n",
    "CASES = ['REAL_CASES', 'UNREAL_CASES']\n",
    "\n",
    "GRAPH = ['GRAPH_DATA', 'CLUSTER_INC_DATA', 'CLUSTER_VAR_DATA', 'DOMAIN_GRAPH_DATA', 'CONSTRAINT_GRAPH_DATA']\n",
    "\n",
    "GAMEMODEL = ['JUST_STRING_COUNT', 'JUST_STRING_ENV_COUNT', 'TRANS_STRING_SYS_COUNT',\n",
    "             'TRANS_STRING_ENV_COUNT', 'INI_STRING_ENV_COUNT', 'INI_STRING_SYS_COUNT']\n",
    "\n",
    "# Filter out timeout cases\n",
    "df_no_timeout = helper_methods.get_df_specs_no_timeout(df)"
   ],
   "outputs": [],
   "execution_count": 48
  },
  {
   "cell_type": "code",
   "metadata": {
    "ExecuteTime": {
     "end_time": "2024-10-19T21:05:02.579174Z",
     "start_time": "2024-10-19T21:05:02.569940Z"
    }
   },
   "source": [
    "df_no_timeout[df_no_timeout['Spec'] == '1670183448'][['RunConfig','Z_SAT_COUNT', 'Z_SAT_COUNT_START_S0']]"
   ],
   "outputs": [
    {
     "data": {
      "text/plain": [
       "    RunConfig  Z_SAT_COUNT  Z_SAT_COUNT_START_S0\n",
       "450   NOTHING          NaN                   NaN\n",
       "451     FINAL          NaN                   NaN\n",
       "452   NOTHING          NaN                   NaN\n",
       "453     FINAL          NaN                   NaN\n",
       "454   NOTHING          NaN                   NaN\n",
       "455     FINAL          NaN                   NaN"
      ],
      "text/html": [
       "<div>\n",
       "<style scoped>\n",
       "    .dataframe tbody tr th:only-of-type {\n",
       "        vertical-align: middle;\n",
       "    }\n",
       "\n",
       "    .dataframe tbody tr th {\n",
       "        vertical-align: top;\n",
       "    }\n",
       "\n",
       "    .dataframe thead th {\n",
       "        text-align: right;\n",
       "    }\n",
       "</style>\n",
       "<table border=\"1\" class=\"dataframe\">\n",
       "  <thead>\n",
       "    <tr style=\"text-align: right;\">\n",
       "      <th></th>\n",
       "      <th>RunConfig</th>\n",
       "      <th>Z_SAT_COUNT</th>\n",
       "      <th>Z_SAT_COUNT_START_S0</th>\n",
       "    </tr>\n",
       "  </thead>\n",
       "  <tbody>\n",
       "    <tr>\n",
       "      <th>450</th>\n",
       "      <td>NOTHING</td>\n",
       "      <td>NaN</td>\n",
       "      <td>NaN</td>\n",
       "    </tr>\n",
       "    <tr>\n",
       "      <th>451</th>\n",
       "      <td>FINAL</td>\n",
       "      <td>NaN</td>\n",
       "      <td>NaN</td>\n",
       "    </tr>\n",
       "    <tr>\n",
       "      <th>452</th>\n",
       "      <td>NOTHING</td>\n",
       "      <td>NaN</td>\n",
       "      <td>NaN</td>\n",
       "    </tr>\n",
       "    <tr>\n",
       "      <th>453</th>\n",
       "      <td>FINAL</td>\n",
       "      <td>NaN</td>\n",
       "      <td>NaN</td>\n",
       "    </tr>\n",
       "    <tr>\n",
       "      <th>454</th>\n",
       "      <td>NOTHING</td>\n",
       "      <td>NaN</td>\n",
       "      <td>NaN</td>\n",
       "    </tr>\n",
       "    <tr>\n",
       "      <th>455</th>\n",
       "      <td>FINAL</td>\n",
       "      <td>NaN</td>\n",
       "      <td>NaN</td>\n",
       "    </tr>\n",
       "  </tbody>\n",
       "</table>\n",
       "</div>"
      ]
     },
     "execution_count": 49,
     "metadata": {},
     "output_type": "execute_result"
    }
   ],
   "execution_count": 49
  },
  {
   "cell_type": "code",
   "metadata": {
    "ExecuteTime": {
     "end_time": "2024-10-19T21:05:02.803819Z",
     "start_time": "2024-10-19T21:05:02.798613Z"
    }
   },
   "source": [
    "df_no_timeout_temp1 = df_no_timeout[df_no_timeout['RunConfig'] == 'NOTHING']"
   ],
   "outputs": [],
   "execution_count": 50
  },
  {
   "cell_type": "code",
   "metadata": {
    "id": "wOkiLI1JaPl-",
    "ExecuteTime": {
     "end_time": "2024-10-19T21:05:03.183950Z",
     "start_time": "2024-10-19T21:05:03.031732Z"
    }
   },
   "source": [
    "# Results\n",
    "validate.verify_columns_same_in_groups(df_no_timeout_temp1, RESULT,\"RESULT\")\n",
    "validate.verify_columns_same_in_groups(df_no_timeout_temp1,SAT_RESULT,\"SAT_RESULT\")\n",
    "validate.verify_columns_same_in_groups(df_no_timeout_temp1,SAT_GM,\"SAT_GM\")"
   ],
   "outputs": [
    {
     "name": "stdout",
     "output_type": "stream",
     "text": [
      "All values in Result are the same for each Spec + Action combination.\n",
      "All specified columns have consistent values within each Spec + Action combination.\n",
      "All values in Z_SAT_COUNT are the same for each Spec + Action combination, with some all-NaN groups.\n",
      "All values in Z_SAT_COUNT_START_S0 are the same for each Spec + Action combination, with some all-NaN groups.\n",
      "All specified columns have consistent values within each Spec + Action combination.\n",
      "All values in TRANS_ENV_SAT are the same for each Spec + Action combination.\n",
      "All values in TRANS_SYS_SAT are the same for each Spec + Action combination.\n",
      "All values in JUSTS_SYS_SAT are the same for each Spec + Action combination.\n",
      "All values in JUSTS_ENV_SAT are the same for each Spec + Action combination.\n",
      "All values in INI_ENV_SAT are the same for each Spec + Action combination.\n",
      "All values in INI_SYS_SAT are the same for each Spec + Action combination.\n",
      "All specified columns have consistent values within each Spec + Action combination.\n"
     ]
    },
    {
     "data": {
      "text/plain": [
       "True"
      ]
     },
     "execution_count": 51,
     "metadata": {},
     "output_type": "execute_result"
    }
   ],
   "execution_count": 51
  },
  {
   "cell_type": "code",
   "metadata": {
    "ExecuteTime": {
     "end_time": "2024-10-19T21:05:03.513352Z",
     "start_time": "2024-10-19T21:05:03.408502Z"
    }
   },
   "source": [
    "validate.verify_columns_same_in_groups(df_no_timeout, CASES,\"CASES\")\n",
    "validate.verify_columns_same_in_groups(df_no_timeout,GAMEMODEL,\"GAMEMODEL\")"
   ],
   "outputs": [
    {
     "name": "stdout",
     "output_type": "stream",
     "text": [
      "All values in REAL_CASES are the same for each Spec + Action combination.\n",
      "All values in UNREAL_CASES are the same for each Spec + Action combination.\n",
      "All specified columns have consistent values within each Spec + Action combination.\n",
      "All values in JUST_STRING_COUNT are the same for each Spec + Action combination, with some all-NaN groups.\n",
      "All values in JUST_STRING_ENV_COUNT are the same for each Spec + Action combination, with some all-NaN groups.\n",
      "All values in TRANS_STRING_SYS_COUNT are the same for each Spec + Action combination, with some all-NaN groups.\n",
      "All values in TRANS_STRING_ENV_COUNT are the same for each Spec + Action combination, with some all-NaN groups.\n",
      "All values in INI_STRING_ENV_COUNT are the same for each Spec + Action combination, with some all-NaN groups.\n",
      "All values in INI_STRING_SYS_COUNT are the same for each Spec + Action combination, with some all-NaN groups.\n",
      "All specified columns have consistent values within each Spec + Action combination.\n"
     ]
    },
    {
     "data": {
      "text/plain": [
       "True"
      ]
     },
     "execution_count": 52,
     "metadata": {},
     "output_type": "execute_result"
    }
   ],
   "execution_count": 52
  },
  {
   "cell_type": "code",
   "metadata": {
    "id": "vyX1PLDJpJqW",
    "ExecuteTime": {
     "end_time": "2024-10-19T21:05:03.698482Z",
     "start_time": "2024-10-19T21:05:03.642529Z"
    }
   },
   "source": [
    "# Model\n",
    "validate.verify_columns_same_in_groups(df_no_timeout, SAME_CONSTRAINTS,\"SAME_CONSTRAINTS\")\n",
    "validate.verify_columns_same_in_groups(df_no_timeout, FIXPOINT,\"FIXPOINT\")\n",
    "#verify_columns_same_in_groups(df,GRAPH)"
   ],
   "outputs": [
    {
     "name": "stdout",
     "output_type": "stream",
     "text": [
      "All values in UNUSED_CONS_VARS are the same for each Spec + Action combination, with some all-NaN groups.\n",
      "All specified columns have consistent values within each Spec + Action combination.\n",
      "All values in Z_FIXPOINTS are the same for each Spec + Action combination, with some all-NaN groups.\n",
      "All values in Y_FIXPOINTS are the same for each Spec + Action combination, with some all-NaN groups.\n",
      "All values in X_FIXPOINTS are the same for each Spec + Action combination, with some all-NaN groups.\n",
      "All values in W_FIXPOINTS are the same for each Spec + Action combination, with some all-NaN groups.\n",
      "All specified columns have consistent values within each Spec + Action combination.\n"
     ]
    },
    {
     "data": {
      "text/plain": [
       "True"
      ]
     },
     "execution_count": 53,
     "metadata": {},
     "output_type": "execute_result"
    }
   ],
   "execution_count": 53
  },
  {
   "cell_type": "code",
   "metadata": {
    "id": "4x6jhfImpK0D",
    "ExecuteTime": {
     "end_time": "2024-10-19T21:05:03.834379Z",
     "start_time": "2024-10-19T21:05:03.764685Z"
    }
   },
   "source": [
    "# Misc\n",
    "validate.verify_columns_same_in_groups(df_no_timeout, BDD,\"BDD\")\n",
    "validate.verify_columns_same_in_groups(df_no_timeout,GRAPH,\"GRAPH\")\n"
   ],
   "outputs": [
    {
     "name": "stdout",
     "output_type": "stream",
     "text": [
      "All values in BDDPACKAGE are the same for each Spec + Action combination.\n",
      "All values in FACTORY_TYPE are the same for each Spec + Action combination.\n",
      "All specified columns have consistent values within each Spec + Action combination.\n",
      "All values in GRAPH_DATA are the same for each Spec + Action combination, with some all-NaN groups.\n",
      "All values in CLUSTER_INC_DATA are the same for each Spec + Action combination, with some all-NaN groups.\n",
      "All values in CLUSTER_VAR_DATA are the same for each Spec + Action combination, with some all-NaN groups.\n",
      "All values in DOMAIN_GRAPH_DATA are the same for each Spec + Action combination, with some all-NaN groups.\n",
      "All values in CONSTRAINT_GRAPH_DATA are the same for each Spec + Action combination, with some all-NaN groups.\n",
      "All specified columns have consistent values within each Spec + Action combination.\n"
     ]
    },
    {
     "data": {
      "text/plain": [
       "True"
      ]
     },
     "execution_count": 54,
     "metadata": {},
     "output_type": "execute_result"
    }
   ],
   "execution_count": 54
  },
  {
   "cell_type": "code",
   "metadata": {
    "ExecuteTime": {
     "end_time": "2024-10-19T21:05:03.962070Z",
     "start_time": "2024-10-19T21:05:03.954943Z"
    }
   },
   "source": [
    "df['CLUSTER_INC_DATA']"
   ],
   "outputs": [
    {
     "data": {
      "text/plain": [
       "0      NaN\n",
       "1      NaN\n",
       "2      NaN\n",
       "3      NaN\n",
       "4      NaN\n",
       "        ..\n",
       "1063   NaN\n",
       "1064   NaN\n",
       "1065   NaN\n",
       "1066   NaN\n",
       "1067   NaN\n",
       "Name: CLUSTER_INC_DATA, Length: 1068, dtype: float64"
      ]
     },
     "execution_count": 55,
     "metadata": {},
     "output_type": "execute_result"
    }
   ],
   "execution_count": 55
  },
  {
   "cell_type": "markdown",
   "metadata": {},
   "source": [
    "## Check VARS"
   ]
  },
  {
   "cell_type": "code",
   "metadata": {
    "ExecuteTime": {
     "end_time": "2024-10-19T21:05:04.031584Z",
     "start_time": "2024-10-19T21:05:04.027481Z"
    }
   },
   "source": [
    "SAME_DOMS = ['SYS_DOMS', 'ENV_DOMS']\n"
   ],
   "outputs": [],
   "execution_count": 56
  },
  {
   "cell_type": "code",
   "metadata": {
    "ExecuteTime": {
     "end_time": "2024-10-19T21:05:04.115436Z",
     "start_time": "2024-10-19T21:05:04.102521Z"
    }
   },
   "source": [
    "def verify_permutation(df):\n",
    "    df.groupby()\n",
    "def str_to_ls(str):\n",
    "    ls = str.split(',')\n",
    "    list=  [item.replace('\"', \"\") for item in ls]\n",
    "    return list\n",
    "\n",
    "df_no_timeout_temp = df_no_timeout.copy()\n",
    "\n",
    "for column in SAME_DOMS:\n",
    "    df_no_timeout_temp[column] = df_no_timeout_temp[column].apply(lambda x:str_to_ls(x))\n"
   ],
   "outputs": [],
   "execution_count": 57
  },
  {
   "cell_type": "code",
   "metadata": {
    "ExecuteTime": {
     "end_time": "2024-10-19T21:05:04.202213Z",
     "start_time": "2024-10-19T21:05:04.195990Z"
    }
   },
   "source": [
    "df_no_timeout_temp['ENV_DOMS']"
   ],
   "outputs": [
    {
     "data": {
      "text/plain": [
       "0       [targetAY, targetAY', targetCY, targetCY', tar...\n",
       "1       [$PATTERN:2.ENV_CONSTRAINT.2.S_responds_to_P_g...\n",
       "2       [$PATTERN:1.ENV_CONSTRAINT.1.S_responds_to_P_g...\n",
       "3       [$PATTERN:2.ENV_CONSTRAINT.2.S_responds_to_P_g...\n",
       "4       [$PATTERN:1.ENV_CONSTRAINT.1.S_responds_to_P_g...\n",
       "                              ...                        \n",
       "1063    [lambY0, lambY0', lambX1, lambX1', lambX0, lam...\n",
       "1064    [lambX1, lambX1', lambY1, lambY1', lambX0, lam...\n",
       "1065    [lambY0, lambY0', lambX1, lambX1', lambX0, lam...\n",
       "1066    [lambX0, lambX0', elevatorY, elevatorY', lambY...\n",
       "1067    [lambY0, lambY0', lambY1, lambY1', lambX0, lam...\n",
       "Name: ENV_DOMS, Length: 1068, dtype: object"
      ]
     },
     "execution_count": 58,
     "metadata": {},
     "output_type": "execute_result"
    }
   ],
   "execution_count": 58
  },
  {
   "cell_type": "code",
   "metadata": {
    "ExecuteTime": {
     "end_time": "2024-10-19T21:05:04.342921Z",
     "start_time": "2024-10-19T21:05:04.295105Z"
    }
   },
   "source": [
    "validate.verify_columns_permutations_in_groups(df_no_timeout_temp, SAME_DOMS,\"SAME_DOMS\")\n",
    "#validate.verify_columns_permutations_in_groups(df_no_timeout, VAR_META_DATA,\"VAR_META_DATA\")\n"
   ],
   "outputs": [
    {
     "name": "stdout",
     "output_type": "stream",
     "text": [
      "All lists in SYS_DOMS are permutations of each other for each Spec + ActionType combination.\n",
      "All lists in ENV_DOMS are permutations of each other for each Spec + ActionType combination.\n",
      "All specified columns have consistent lists (up to permutation) within each Spec + ActionType combination.\n"
     ]
    },
    {
     "data": {
      "text/plain": [
       "True"
      ]
     },
     "execution_count": 59,
     "metadata": {},
     "output_type": "execute_result"
    }
   ],
   "execution_count": 59
  },
  {
   "cell_type": "code",
   "metadata": {
    "ExecuteTime": {
     "end_time": "2024-10-19T21:05:04.571081Z",
     "start_time": "2024-10-19T21:05:04.565812Z"
    }
   },
   "source": [
    "df['ENV_DOMS']"
   ],
   "outputs": [
    {
     "data": {
      "text/plain": [
       "0       targetAY,targetAY',targetCY,targetCY',targetBX...\n",
       "1       $PATTERN:2.ENV_CONSTRAINT.2.S_responds_to_P_gl...\n",
       "2       $PATTERN:1.ENV_CONSTRAINT.1.S_responds_to_P_gl...\n",
       "3       $PATTERN:2.ENV_CONSTRAINT.2.S_responds_to_P_gl...\n",
       "4       $PATTERN:1.ENV_CONSTRAINT.1.S_responds_to_P_gl...\n",
       "                              ...                        \n",
       "1063    lambY0,lambY0',lambX1,lambX1',lambX0,lambX0',l...\n",
       "1064    lambX1,lambX1',lambY1,lambY1',lambX0,lambX0',e...\n",
       "1065    lambY0,lambY0',lambX1,lambX1',lambX0,lambX0',l...\n",
       "1066    lambX0,lambX0',elevatorY,elevatorY',lambY1,lam...\n",
       "1067    lambY0,lambY0',lambY1,lambY1',lambX0,lambX0',e...\n",
       "Name: ENV_DOMS, Length: 1068, dtype: object"
      ]
     },
     "execution_count": 60,
     "metadata": {},
     "output_type": "execute_result"
    }
   ],
   "execution_count": 60
  }
 ],
 "metadata": {
  "colab": {
   "collapsed_sections": [
    "zdzSFGAyA6EB"
   ],
   "provenance": [],
   "toc_visible": true
  },
  "kernelspec": {
   "display_name": "Python 3 (ipykernel)",
   "language": "python",
   "name": "python3"
  },
  "language_info": {
   "name": "python"
  }
 },
 "nbformat": 4,
 "nbformat_minor": 0
}
