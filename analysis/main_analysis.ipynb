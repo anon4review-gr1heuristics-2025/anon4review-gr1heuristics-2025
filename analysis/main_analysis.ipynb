{
 "cells": [
  {
   "cell_type": "markdown",
   "metadata": {
    "id": "ydE-A3C6ConM"
   },
   "source": [
    "# Performance Heuristics for GR(1) Realizability Checking and Related Analyses\n",
    " Main Analysis"
   ]
  },
  {
   "cell_type": "code",
   "metadata": {
    "ExecuteTime": {
     "end_time": "2024-10-19T20:42:15.641682Z",
     "start_time": "2024-10-19T20:42:15.576079Z"
    }
   },
   "source": [
    "import helper_methods\n",
    "import load_data\n",
    "import pandas as pd\n",
    "import matplotlib.pyplot as plt\n",
    "\n",
    "import group_methods\n",
    "import result_analysis\n",
    "import numpy as np\n",
    "import validate\n",
    "from result_analysis import pivot"
   ],
   "outputs": [],
   "execution_count": 250
  },
  {
   "cell_type": "markdown",
   "metadata": {
    "id": "-tHtZmuL21Pq"
   },
   "source": [
    "# Load CSV"
   ]
  },
  {
   "cell_type": "markdown",
   "metadata": {
    "id": "vNcF16L67j9K"
   },
   "source": [
    "### Mult"
   ]
  },
  {
   "cell_type": "code",
   "metadata": {
    "colab": {
     "base_uri": "https://localhost:8080/",
     "height": 229
    },
    "id": "MfUClyQx51m4",
    "outputId": "a7763af2-705c-4f03-fdcd-9ebf918309d2",
    "ExecuteTime": {
     "end_time": "2024-10-19T20:42:15.937221Z",
     "start_time": "2024-10-19T20:42:15.693780Z"
    }
   },
   "source": [
    "df_raw= load_data.load_data_mult()"
   ],
   "outputs": [
    {
     "name": "stdout",
     "output_type": "stream",
     "text": [
      "Found 2 CSV file(s) in the 'analysis_csv' directory.\n",
      "Loaded: all_runs_new_SPLIT1_ws1_20241009_235902.csv\n",
      "Number of specs in this file: 80\n",
      "Loaded: all_runs_new_SPLIT2_ws2_20241009_221236.csv\n",
      "Number of specs in this file: 98\n",
      "Total number of files loaded: 2\n",
      "Total Specs: 178\n",
      "Final DataFrame shape: (1068, 88)\n"
     ]
    }
   ],
   "execution_count": 251
  },
  {
   "cell_type": "code",
   "metadata": {
    "id": "OsNt3Hsohuzj",
    "ExecuteTime": {
     "end_time": "2024-10-19T20:42:16.295539Z",
     "start_time": "2024-10-19T20:42:16.287162Z"
    }
   },
   "source": [
    "df = df_raw"
   ],
   "outputs": [],
   "execution_count": 252
  },
  {
   "cell_type": "code",
   "metadata": {
    "ExecuteTime": {
     "end_time": "2024-10-19T20:42:16.477492Z",
     "start_time": "2024-10-19T20:42:16.467264Z"
    }
   },
   "source": [
    "df['Spec'].isin(['166996604']).any()\n"
   ],
   "outputs": [
    {
     "data": {
      "text/plain": [
       "False"
      ]
     },
     "execution_count": 253,
     "metadata": {},
     "output_type": "execute_result"
    }
   ],
   "execution_count": 253
  },
  {
   "cell_type": "markdown",
   "metadata": {},
   "source": [
    "# Result"
   ]
  },
  {
   "cell_type": "code",
   "metadata": {
    "ExecuteTime": {
     "end_time": "2024-10-19T20:42:16.583814Z",
     "start_time": "2024-10-19T20:42:16.578496Z"
    }
   },
   "source": [
    "baseline_runconfig='NOTHING'"
   ],
   "outputs": [],
   "execution_count": 254
  },
  {
   "cell_type": "code",
   "metadata": {
    "ExecuteTime": {
     "end_time": "2024-10-19T20:42:16.740051Z",
     "start_time": "2024-10-19T20:42:16.731006Z"
    }
   },
   "source": [
    "df.columns"
   ],
   "outputs": [
    {
     "data": {
      "text/plain": [
       "Index(['Spec', 'RunConfig', 'UniqueIdentifier', 'TIMEOUT', 'ActionType',\n",
       "       'Result', 'CONFIG_TXT', 'INITIAL_BDD_TIME', 'HEURISTICS_TIME',\n",
       "       'SECOND_STEP_TIME', 'PARALLEL_OVERHEAD_TIME', 'WORK_TIME', 'TOTAL_TIME',\n",
       "       'PRE_ROYBDD_ORDER', 'POST_HEURISTICS_ORDER', 'POST_SECOND_STEP_ORDER',\n",
       "       'POST_WORK_ORDER', 'PRE_ROYBDD_NODE_SIZE', 'POST_HEURISTICS_NODE_SIZE',\n",
       "       'POST_SECOND_STEP_NODE_SIZE', 'POST_WORK_NODE_SIZE', 'AVERAGE_AUX_SIZE',\n",
       "       'AVERAGE_SYS_DOM_IN_CONSTRAINT', 'AVERAGE_ENV_DOM_IN_CONSTRAINT',\n",
       "       'AVERAGE_SYS_DOM_SIZE', 'AVERAGE_ENV_DOM_SIZE',\n",
       "       'AVERAGE_CONSTRAINT_COMPLEXITY', 'INTERCONNECTNESS_INDEX',\n",
       "       'TOTAL_REORDER_TIME', 'REORDER_CALL_AMOUNT', 'AVERAGE_REORDER_TIME',\n",
       "       'AVERAGE_REORDER_GAIN', 'Z_FIXPOINTS', 'Y_FIXPOINTS', 'X_FIXPOINTS',\n",
       "       'W_FIXPOINTS', 'REAL_CASES', 'UNREAL_CASES', 'REAL_TIME', 'UNREAL_TIME',\n",
       "       'GRAPH_DATA', 'CLUSTER_INC_DATA', 'CLUSTER_VAR_DATA',\n",
       "       'DOMAIN_GRAPH_DATA', 'CONSTRAINT_GRAPH_DATA', 'JUST_STRING_COUNT',\n",
       "       'JUST_STRING_ENV_COUNT', 'TRANS_STRING_SYS_COUNT',\n",
       "       'TRANS_STRING_ENV_COUNT', 'INI_STRING_ENV_COUNT',\n",
       "       'INI_STRING_SYS_COUNT', 'TOTAL_VARS', 'SYS_VARS', 'ENV_VARS',\n",
       "       'AUX_VARS', 'UNUSED_CONS_VARS', 'ARRAYS_INSTANCES', 'TOTAL_DOMS',\n",
       "       'SYS_DOMS', 'ENV_DOMS', 'AUX_DOMS', 'DOMS_NOT_QUANTIFIED',\n",
       "       'INI_SYS_CONSTRAINTS', 'INI_ENV_CONSTRAINTS', 'TRANS_ENV_CONSTRAINTS',\n",
       "       'TRANS_SYS_CONSTRAINTS', 'JUSTICE_SYS_AMOUNT', 'JUSTICE_ENV_AMOUNT',\n",
       "       'Z_SAT_COUNT', 'Z_SAT_COUNT_START_S0', 'TRANS_ENV_SAT', 'TRANS_SYS_SAT',\n",
       "       'JUSTS_SYS_SAT', 'JUSTS_ENV_SAT', 'INI_ENV_SAT', 'INI_SYS_SAT',\n",
       "       'FACTORY_TYPE', 'BDDPACKAGE', 'IMPORT', 'UNIQUE_PATTERNS',\n",
       "       'PATTERN_INSTANCES', 'TRIGGER_INSTANCES', 'MONITORS_INSTANCES',\n",
       "       'COUNTERS_INSTANCES', 'REDUCED_PATTERN', 'REDUCED_TRIGGER',\n",
       "       'SWAPPED_TO_ORIGINAL', 'ADDITIONAL'],\n",
       "      dtype='object')"
      ]
     },
     "execution_count": 255,
     "metadata": {},
     "output_type": "execute_result"
    }
   ],
   "execution_count": 255
  },
  {
   "cell_type": "code",
   "metadata": {
    "ExecuteTime": {
     "end_time": "2024-10-19T20:42:16.886012Z",
     "start_time": "2024-10-19T20:42:16.870203Z"
    }
   },
   "source": "no_timeouts_df = helper_methods.get_df_rows_no_timeout(df)",
   "outputs": [],
   "execution_count": 256
  },
  {
   "cell_type": "code",
   "metadata": {
    "ExecuteTime": {
     "end_time": "2024-10-19T20:42:17.004127Z",
     "start_time": "2024-10-19T20:42:16.997225Z"
    }
   },
   "source": [
    "print(f\"before len: {len(df)}\")\n",
    "\n",
    "print(f\"filtered len: {len(no_timeouts_df)}\")"
   ],
   "outputs": [
    {
     "name": "stdout",
     "output_type": "stream",
     "text": [
      "before len: 1068\n",
      "filtered len: 1068\n"
     ]
    }
   ],
   "execution_count": 257
  },
  {
   "cell_type": "code",
   "metadata": {
    "ExecuteTime": {
     "end_time": "2024-10-19T20:42:17.672662Z",
     "start_time": "2024-10-19T20:42:17.280499Z"
    }
   },
   "source": "df_grouped_filtered = group_methods.group(no_timeouts_df)\n",
   "outputs": [],
   "execution_count": 258
  },
  {
   "cell_type": "code",
   "metadata": {
    "ExecuteTime": {
     "end_time": "2024-10-19T20:42:17.764984Z",
     "start_time": "2024-10-19T20:42:17.757673Z"
    }
   },
   "source": [
    "print(\"False is expected\")\n",
    "# Check for NaN in the 'Result' column\n",
    "print(f\"any nan Result: {df_grouped_filtered['Result'].isna().any()}\")\n",
    "\n",
    "# Check for NaN in the 'WORK_TIME' column\n",
    "print(f\"any nan WORK_TIME: {df_grouped_filtered['WORK_TIME'].isna().any()}\")\n",
    "\n",
    "# Check for NaN in the 'TOTAL_TIME' column\n",
    "print(f\"any nan TOTAL_TIME: {df_grouped_filtered['TOTAL_TIME'].isna().any()}\")\n"
   ],
   "outputs": [
    {
     "name": "stdout",
     "output_type": "stream",
     "text": [
      "False is expected\n",
      "any nan Result: False\n",
      "any nan WORK_TIME: False\n",
      "any nan TOTAL_TIME: False\n"
     ]
    }
   ],
   "execution_count": 259
  },
  {
   "cell_type": "code",
   "metadata": {
    "ExecuteTime": {
     "end_time": "2024-10-19T20:42:17.869803Z",
     "start_time": "2024-10-19T20:42:17.864809Z"
    }
   },
   "source": "helper_methods.explore_amount_of_configs(df_grouped_filtered)",
   "outputs": [
    {
     "name": "stdout",
     "output_type": "stream",
     "text": [
      "\n",
      "Unique counts of RunConfigs per Spec: [2]\n"
     ]
    }
   ],
   "execution_count": 260
  },
  {
   "cell_type": "markdown",
   "metadata": {},
   "source": [
    "### Different Results"
   ]
  },
  {
   "cell_type": "code",
   "metadata": {
    "ExecuteTime": {
     "end_time": "2024-10-19T20:42:18.150529Z",
     "start_time": "2024-10-19T20:42:18.135646Z"
    }
   },
   "source": [
    "def first_if_eq(s):\n",
    "    if s.nunique() == 1:\n",
    "        return s.iloc[0]\n",
    "    raise ValueError(f\"Not all values are equal for Spec: {s.name}, {s}\")\n",
    "\n",
    "result = (helper_methods.get_df_specs_no_timeout(df_grouped_filtered)\n",
    "          .groupby('Spec')['Result']\n",
    "          .agg(first_if_eq)\n",
    "          .value_counts())\n",
    "\n",
    "print(result)"
   ],
   "outputs": [
    {
     "name": "stdout",
     "output_type": "stream",
     "text": [
      "Result\n",
      "STRONG        123\n",
      "NOT_STRONG     55\n",
      "Name: count, dtype: int64\n"
     ]
    }
   ],
   "execution_count": 261
  },
  {
   "cell_type": "code",
   "metadata": {
    "ExecuteTime": {
     "end_time": "2024-10-19T20:42:18.339099Z",
     "start_time": "2024-10-19T20:42:18.312839Z"
    }
   },
   "source": [
    "def first_if_eq(s):\n",
    "    if s.nunique() == 1:\n",
    "        return s.iloc[0]\n",
    "    raise ValueError(f\"Not all values are equal for Spec: {s.name}, {s}\")\n",
    "\n",
    "def process_data(df_grouped_filtered):\n",
    "    specs_df = helper_methods.get_df_specs_no_timeout(df_grouped_filtered)\n",
    "    \n",
    "    equal_value_groups = []\n",
    "    unequal_value_groups = []\n",
    "    \n",
    "    for spec, group in specs_df.groupby('Spec'):\n",
    "        try:\n",
    "            first_if_eq(group['Result'])\n",
    "            equal_value_groups.append(spec)\n",
    "        except ValueError:\n",
    "            unequal_value_groups.append(spec)\n",
    "    \n",
    "    result = (pd.Series(equal_value_groups)\n",
    "              .value_counts())\n",
    "    \n",
    "    print(\"Groups with equal values:\")\n",
    "    print(result)\n",
    "    \n",
    "    print(\"\\nGroups without equal values:\")\n",
    "    for spec in unequal_value_groups:\n",
    "        print(f\"- {spec}\")\n",
    "\n",
    "# Assuming df_grouped_filtered is already defined\n",
    "process_data(df_grouped_filtered)"
   ],
   "outputs": [
    {
     "name": "stdout",
     "output_type": "stream",
     "text": [
      "Groups with equal values:\n",
      "1669468393     1\n",
      "1672504085     1\n",
      "1672060474     1\n",
      "1672060600     1\n",
      "1672060813     1\n",
      "              ..\n",
      "1670525188     1\n",
      "1670538229     1\n",
      "1670541413     1\n",
      "1670542951     1\n",
      "variant-3-9    1\n",
      "Name: count, Length: 178, dtype: int64\n",
      "\n",
      "Groups without equal values:\n"
     ]
    }
   ],
   "execution_count": 262
  },
  {
   "cell_type": "markdown",
   "metadata": {},
   "source": [
    "## Basic Results - WORKTIME"
   ]
  },
  {
   "cell_type": "markdown",
   "metadata": {},
   "source": [
    "### Percent of TIMEOUT Calc 1"
   ]
  },
  {
   "cell_type": "code",
   "metadata": {
    "ExecuteTime": {
     "end_time": "2024-10-19T20:42:18.449016Z",
     "start_time": "2024-10-19T20:42:18.437683Z"
    }
   },
   "source": [
    "def count_timeouts_per_runconfig(df):\n",
    "    # Group by RunConfig and count Specs with TIMEOUT==1\n",
    "    timeout_counts = df[df['TIMEOUT'] == 1].groupby('RunConfig')['Spec'].nunique()\n",
    "    \n",
    "    # Get total number of unique Specs for each RunConfig\n",
    "    total_specs = df.groupby('RunConfig')['Spec'].nunique()\n",
    "    \n",
    "    # Combine counts and calculate percentages\n",
    "    result = pd.DataFrame({\n",
    "        'Timeout_Count': timeout_counts,\n",
    "        'Total_Specs': total_specs,\n",
    "        'Timeout_Percentage': (timeout_counts / total_specs * 100).round(2)\n",
    "    }).sort_values('Timeout_Count', ascending=False)\n",
    "    \n",
    "    # Print results\n",
    "    for runconfig, row in result.iterrows():\n",
    "        print(f\"{runconfig}: {row['Timeout_Count']} / {row['Total_Specs']} Specs \"\n",
    "              f\"({row['Timeout_Percentage']}%) timed out\")\n",
    "\n",
    "# Assuming your DataFrame is named 'df'\n",
    "count_timeouts_per_runconfig(df)\n"
   ],
   "outputs": [
    {
     "name": "stdout",
     "output_type": "stream",
     "text": [
      "FINAL: nan / 178.0 Specs (nan%) timed out\n",
      "NOTHING: nan / 178.0 Specs (nan%) timed out\n"
     ]
    }
   ],
   "execution_count": 263
  },
  {
   "cell_type": "code",
   "metadata": {
    "ExecuteTime": {
     "end_time": "2024-10-19T20:42:18.590555Z",
     "start_time": "2024-10-19T20:42:18.565326Z"
    }
   },
   "source": [
    "def count_TIMEOUT(series):\n",
    "    return (series == 1).sum()\n",
    "\n",
    "def count_timeouts_per_runconfig1(df):\n",
    "    # Group by 'RunConfig' and aggregate counts\n",
    "    result1 = df.groupby('RunConfig').agg(\n",
    "        Timeout_Count=('TIMEOUT', count_TIMEOUT),\n",
    "        Total_Specs=('Spec', 'nunique')\n",
    "    )\n",
    "    \n",
    "    # Calculate timeout percentage\n",
    "    result1['Timeout_Percentage'] = (result1['Timeout_Count'] / result1['Total_Specs'] * 100).round(2)\n",
    "    \n",
    "    # Sort by 'Timeout_Count' in descending order\n",
    "    result = result1.sort_values('Timeout_Count', ascending=False)\n",
    "    \n",
    "    # Print results\n",
    "    for runconfig, row in result.iterrows():\n",
    "        print(f\"{runconfig}: {int(row['Timeout_Count'])} / {row['Total_Specs']} Specs \"\n",
    "              f\"({row['Timeout_Percentage']}%) timed out\")\n",
    "        \n",
    "count_timeouts_per_runconfig1(df)\n",
    "\n",
    "result1 = df.groupby('RunConfig').agg(\n",
    "    Timeout_Count=('TIMEOUT', count_TIMEOUT),\n",
    "    Total_Specs=('Spec', 'nunique')\n",
    ")\n",
    "result1"
   ],
   "outputs": [
    {
     "name": "stdout",
     "output_type": "stream",
     "text": [
      "FINAL: 0 / 178.0 Specs (0.0%) timed out\n",
      "NOTHING: 0 / 178.0 Specs (0.0%) timed out\n"
     ]
    },
    {
     "data": {
      "text/plain": [
       "           Timeout_Count  Total_Specs\n",
       "RunConfig                            \n",
       "FINAL                  0          178\n",
       "NOTHING                0          178"
      ],
      "text/html": [
       "<div>\n",
       "<style scoped>\n",
       "    .dataframe tbody tr th:only-of-type {\n",
       "        vertical-align: middle;\n",
       "    }\n",
       "\n",
       "    .dataframe tbody tr th {\n",
       "        vertical-align: top;\n",
       "    }\n",
       "\n",
       "    .dataframe thead th {\n",
       "        text-align: right;\n",
       "    }\n",
       "</style>\n",
       "<table border=\"1\" class=\"dataframe\">\n",
       "  <thead>\n",
       "    <tr style=\"text-align: right;\">\n",
       "      <th></th>\n",
       "      <th>Timeout_Count</th>\n",
       "      <th>Total_Specs</th>\n",
       "    </tr>\n",
       "    <tr>\n",
       "      <th>RunConfig</th>\n",
       "      <th></th>\n",
       "      <th></th>\n",
       "    </tr>\n",
       "  </thead>\n",
       "  <tbody>\n",
       "    <tr>\n",
       "      <th>FINAL</th>\n",
       "      <td>0</td>\n",
       "      <td>178</td>\n",
       "    </tr>\n",
       "    <tr>\n",
       "      <th>NOTHING</th>\n",
       "      <td>0</td>\n",
       "      <td>178</td>\n",
       "    </tr>\n",
       "  </tbody>\n",
       "</table>\n",
       "</div>"
      ]
     },
     "execution_count": 264,
     "metadata": {},
     "output_type": "execute_result"
    }
   ],
   "execution_count": 264
  },
  {
   "cell_type": "markdown",
   "metadata": {
    "id": "oM2lKv4AKdGq"
   },
   "source": [
    "### Amount reduced"
   ]
  },
  {
   "cell_type": "code",
   "metadata": {
    "id": "bfgHdQLnLkKm",
    "ExecuteTime": {
     "end_time": "2024-10-19T20:42:18.769657Z",
     "start_time": "2024-10-19T20:42:18.752089Z"
    }
   },
   "source": [
    "pivot_df_reduced = result_analysis.pivot(df_grouped_filtered, ['WORK_TIME', 'TOTAL_TIME'])\n",
    "\n",
    "# Get all columns except the baseline\n",
    "columns = [col for col in pivot_df_reduced['TOTAL_TIME'].columns if col != baseline_runconfig]\n",
    "\n",
    "# Create head-to-head comparisons\n",
    "headtoheads_columns = [(col,[baseline_runconfig, col]) for col in columns]\n",
    "print(f\"head to head values: {headtoheads_columns}\")"
   ],
   "outputs": [
    {
     "name": "stdout",
     "output_type": "stream",
     "text": [
      "head to head values: [('FINAL', ['NOTHING', 'FINAL'])]\n"
     ]
    }
   ],
   "execution_count": 265
  },
  {
   "cell_type": "code",
   "metadata": {
    "id": "AB7gm-cpYi1K",
    "ExecuteTime": {
     "end_time": "2024-10-19T20:42:18.984051Z",
     "start_time": "2024-10-19T20:42:18.966722Z"
    }
   },
   "source": [
    "def calc_smaller(pivot_df,headtoheads_columns, baseline_runconfig):\n",
    "    pivot_df = pivot_df.copy()\n",
    "    \n",
    "    # Head-to-head comparisons\n",
    "    for name, cols in headtoheads_columns:\n",
    "        # Extract the relevant columns for this comparison\n",
    "        pivot_df_headtohead = pivot_df['TOTAL_TIME'][cols]\n",
    "    \n",
    "        # Filter rows where both are NaN\n",
    "        pivot_df_headtohead = pivot_df_headtohead.dropna(how='all')\n",
    "        # If only one is TIMEOUT, let the other 'win'\n",
    "        pivot_df_headtohead = pivot_df_headtohead.fillna(9999999)\n",
    "        nonbaseline = cols[1]\n",
    "    \n",
    "        row_smaller_amount = (pivot_df_headtohead[nonbaseline] < pivot_df_headtohead[baseline_runconfig]).sum()\n",
    "    \n",
    "    \n",
    "    \n",
    "        # Calculate percentage smaller than baseline\n",
    "        percentage =  row_smaller_amount / len(pivot_df_headtohead) * 100\n",
    "    \n",
    "        print(f\"{cols[1]}: {percentage:.2f}% smaller than baseline\")\n",
    "        print(f\"{cols[1]}: {row_smaller_amount:.2f} {len(pivot_df_headtohead)}\")\n",
    "\n",
    "\n",
    "print(\"ALL\")\n",
    "calc_smaller(pivot_df_reduced,headtoheads_columns, baseline_runconfig)\n",
    "print()\n",
    "print(\"BIGGER THAN 60 secs\")\n",
    "calc_smaller(pivot_df_reduced[pivot_df_reduced['WORK_TIME']['NOTHING'] > 60000],headtoheads_columns, baseline_runconfig)\n"
   ],
   "outputs": [
    {
     "name": "stdout",
     "output_type": "stream",
     "text": [
      "ALL\n",
      "FINAL: 82.02% smaller than baseline\n",
      "FINAL: 146.00 178\n",
      "\n",
      "BIGGER THAN 60 secs\n",
      "FINAL: 100.00% smaller than baseline\n",
      "FINAL: 3.00 3\n"
     ]
    }
   ],
   "execution_count": 266
  },
  {
   "cell_type": "code",
   "metadata": {
    "ExecuteTime": {
     "end_time": "2024-10-19T20:42:19.305770Z",
     "start_time": "2024-10-19T20:42:19.288997Z"
    }
   },
   "source": [
    "pivot_df_reduced"
   ],
   "outputs": [
    {
     "data": {
      "text/plain": [
       "                TOTAL_TIME                    WORK_TIME               \n",
       "RunConfig            FINAL        NOTHING         FINAL        NOTHING\n",
       "Spec                                                                  \n",
       "1669468393     2400.666667    2328.000000    405.666667     364.666667\n",
       "1669640935     2578.666667    3223.666667    500.333333     921.666667\n",
       "1669643093     2426.333333    3583.666667    281.000000    1193.000000\n",
       "1669643605     2396.333333    3510.666667    240.000000    1166.666667\n",
       "1669665995   128850.333333  574895.333333  90256.666667  495372.000000\n",
       "...                    ...            ...           ...            ...\n",
       "variant-2-4    2870.000000    3416.333333    828.000000    1296.666667\n",
       "variant-2-8    1969.000000    2163.000000     16.000000      93.666667\n",
       "variant-3-1    5307.333333    3692.000000   3146.000000     875.000000\n",
       "variant-3-4    2385.333333    2307.333333     31.333333      31.000000\n",
       "variant-3-9    3750.000000    3740.000000   1463.666667     666.666667\n",
       "\n",
       "[178 rows x 4 columns]"
      ],
      "text/html": [
       "<div>\n",
       "<style scoped>\n",
       "    .dataframe tbody tr th:only-of-type {\n",
       "        vertical-align: middle;\n",
       "    }\n",
       "\n",
       "    .dataframe tbody tr th {\n",
       "        vertical-align: top;\n",
       "    }\n",
       "\n",
       "    .dataframe thead tr th {\n",
       "        text-align: left;\n",
       "    }\n",
       "\n",
       "    .dataframe thead tr:last-of-type th {\n",
       "        text-align: right;\n",
       "    }\n",
       "</style>\n",
       "<table border=\"1\" class=\"dataframe\">\n",
       "  <thead>\n",
       "    <tr>\n",
       "      <th></th>\n",
       "      <th colspan=\"2\" halign=\"left\">TOTAL_TIME</th>\n",
       "      <th colspan=\"2\" halign=\"left\">WORK_TIME</th>\n",
       "    </tr>\n",
       "    <tr>\n",
       "      <th>RunConfig</th>\n",
       "      <th>FINAL</th>\n",
       "      <th>NOTHING</th>\n",
       "      <th>FINAL</th>\n",
       "      <th>NOTHING</th>\n",
       "    </tr>\n",
       "    <tr>\n",
       "      <th>Spec</th>\n",
       "      <th></th>\n",
       "      <th></th>\n",
       "      <th></th>\n",
       "      <th></th>\n",
       "    </tr>\n",
       "  </thead>\n",
       "  <tbody>\n",
       "    <tr>\n",
       "      <th>1669468393</th>\n",
       "      <td>2400.666667</td>\n",
       "      <td>2328.000000</td>\n",
       "      <td>405.666667</td>\n",
       "      <td>364.666667</td>\n",
       "    </tr>\n",
       "    <tr>\n",
       "      <th>1669640935</th>\n",
       "      <td>2578.666667</td>\n",
       "      <td>3223.666667</td>\n",
       "      <td>500.333333</td>\n",
       "      <td>921.666667</td>\n",
       "    </tr>\n",
       "    <tr>\n",
       "      <th>1669643093</th>\n",
       "      <td>2426.333333</td>\n",
       "      <td>3583.666667</td>\n",
       "      <td>281.000000</td>\n",
       "      <td>1193.000000</td>\n",
       "    </tr>\n",
       "    <tr>\n",
       "      <th>1669643605</th>\n",
       "      <td>2396.333333</td>\n",
       "      <td>3510.666667</td>\n",
       "      <td>240.000000</td>\n",
       "      <td>1166.666667</td>\n",
       "    </tr>\n",
       "    <tr>\n",
       "      <th>1669665995</th>\n",
       "      <td>128850.333333</td>\n",
       "      <td>574895.333333</td>\n",
       "      <td>90256.666667</td>\n",
       "      <td>495372.000000</td>\n",
       "    </tr>\n",
       "    <tr>\n",
       "      <th>...</th>\n",
       "      <td>...</td>\n",
       "      <td>...</td>\n",
       "      <td>...</td>\n",
       "      <td>...</td>\n",
       "    </tr>\n",
       "    <tr>\n",
       "      <th>variant-2-4</th>\n",
       "      <td>2870.000000</td>\n",
       "      <td>3416.333333</td>\n",
       "      <td>828.000000</td>\n",
       "      <td>1296.666667</td>\n",
       "    </tr>\n",
       "    <tr>\n",
       "      <th>variant-2-8</th>\n",
       "      <td>1969.000000</td>\n",
       "      <td>2163.000000</td>\n",
       "      <td>16.000000</td>\n",
       "      <td>93.666667</td>\n",
       "    </tr>\n",
       "    <tr>\n",
       "      <th>variant-3-1</th>\n",
       "      <td>5307.333333</td>\n",
       "      <td>3692.000000</td>\n",
       "      <td>3146.000000</td>\n",
       "      <td>875.000000</td>\n",
       "    </tr>\n",
       "    <tr>\n",
       "      <th>variant-3-4</th>\n",
       "      <td>2385.333333</td>\n",
       "      <td>2307.333333</td>\n",
       "      <td>31.333333</td>\n",
       "      <td>31.000000</td>\n",
       "    </tr>\n",
       "    <tr>\n",
       "      <th>variant-3-9</th>\n",
       "      <td>3750.000000</td>\n",
       "      <td>3740.000000</td>\n",
       "      <td>1463.666667</td>\n",
       "      <td>666.666667</td>\n",
       "    </tr>\n",
       "  </tbody>\n",
       "</table>\n",
       "<p>178 rows × 4 columns</p>\n",
       "</div>"
      ]
     },
     "execution_count": 267,
     "metadata": {},
     "output_type": "execute_result"
    }
   ],
   "execution_count": 267
  },
  {
   "cell_type": "markdown",
   "metadata": {
    "id": "24bA-eKqLGYt"
   },
   "source": [
    "### Calculate"
   ]
  },
  {
   "cell_type": "markdown",
   "metadata": {
    "id": "nLUQD3CAKaws"
   },
   "source": [
    "## Ratio"
   ]
  },
  {
   "cell_type": "code",
   "metadata": {
    "ExecuteTime": {
     "end_time": "2024-10-19T20:42:19.825663Z",
     "start_time": "2024-10-19T20:42:19.526561Z"
    }
   },
   "source": [
    "df_grouped = group_methods.group(df)\n",
    "print(f\"len {len(df_grouped)}\")"
   ],
   "outputs": [
    {
     "name": "stdout",
     "output_type": "stream",
     "text": [
      "len 356\n"
     ]
    }
   ],
   "execution_count": 268
  },
  {
   "cell_type": "code",
   "metadata": {
    "id": "RUd3hGg9m35R",
    "ExecuteTime": {
     "end_time": "2024-10-19T20:42:19.891007Z",
     "start_time": "2024-10-19T20:42:19.881182Z"
    }
   },
   "source": [
    "# Used in RATIO: Keep only specs that have no timeout\n",
    "df_grouped_no_timeout = helper_methods.get_df_specs_no_timeout(df_grouped)\n",
    "\n",
    "# Not used in RATIO: Keep only specs that have no timeout & doesn't change the result\n",
    "df_grouped_no_timeout_same_result = helper_methods.get_df_specs_same_column(df_grouped_no_timeout, 'Result')"
   ],
   "outputs": [],
   "execution_count": 269
  },
  {
   "cell_type": "code",
   "metadata": {
    "ExecuteTime": {
     "end_time": "2024-10-19T20:42:19.977560Z",
     "start_time": "2024-10-19T20:42:19.971880Z"
    }
   },
   "source": [
    "print(f\"amount of no timeout runs {len(df_grouped_no_timeout)}\")\n",
    "print(f\"amount of no timeout runs & same result {len(df_grouped_no_timeout_same_result)}\")\n",
    "\n",
    "print(f\"amount of no timeout specs {len(df_grouped_no_timeout['Spec'].unique())}\")\n",
    "print(f\"amount of no timeout specs & same result {len(df_grouped_no_timeout_same_result['Spec'].unique())}\")\n",
    "\n",
    "print(f\"Any missing no_timeout: {df_grouped_no_timeout['WORK_TIME'].isna().any()}\")\n",
    "print(f\"Any missing no_timeout_same_result: {df_grouped_no_timeout_same_result['WORK_TIME'].isna().any()}\")"
   ],
   "outputs": [
    {
     "name": "stdout",
     "output_type": "stream",
     "text": [
      "amount of no timeout runs 356\n",
      "amount of no timeout runs & same result 356\n",
      "amount of no timeout specs 178\n",
      "amount of no timeout specs & same result 178\n",
      "Any missing no_timeout: False\n",
      "Any missing no_timeout_same_result: False\n"
     ]
    }
   ],
   "execution_count": 270
  },
  {
   "cell_type": "code",
   "metadata": {
    "id": "CiBy1g6SSTMt",
    "ExecuteTime": {
     "end_time": "2024-10-19T20:42:20.209921Z",
     "start_time": "2024-10-19T20:42:20.194130Z"
    }
   },
   "source": [
    "metric_columns = ['WORK_TIME','TOTAL_TIME','TOTAL_REORDER_TIME']\n",
    "pivot_df = result_analysis.pivot(df_grouped_no_timeout,metric_columns )\n",
    "\n",
    "runconfigs = df_grouped_no_timeout['RunConfig'].unique()\n",
    "pivot_df"
   ],
   "outputs": [
    {
     "data": {
      "text/plain": [
       "            TOTAL_REORDER_TIME                    TOTAL_TIME                 \\\n",
       "RunConfig                FINAL        NOTHING          FINAL        NOTHING   \n",
       "Spec                                                                          \n",
       "1669468393          350.666667     289.333333    2400.666667    2328.000000   \n",
       "1669640935          511.666667     931.666667    2578.666667    3223.666667   \n",
       "1669643093          379.333333    1118.666667    2426.333333    3583.666667   \n",
       "1669643605          371.333333    1007.333333    2396.333333    3510.666667   \n",
       "1669665995       124155.666667  561568.666667  128850.333333  574895.333333   \n",
       "...                        ...            ...            ...            ...   \n",
       "variant-2-4         852.000000    1431.666667    2870.000000    3416.333333   \n",
       "variant-2-8          34.000000     217.000000    1969.000000    2163.000000   \n",
       "variant-3-1        2467.666667    1438.666667    5307.333333    3692.000000   \n",
       "variant-3-4         235.000000     172.000000    2385.333333    2307.333333   \n",
       "variant-3-9        1336.666667    1317.666667    3750.000000    3740.000000   \n",
       "\n",
       "                WORK_TIME                 \n",
       "RunConfig           FINAL        NOTHING  \n",
       "Spec                                      \n",
       "1669468393     405.666667     364.666667  \n",
       "1669640935     500.333333     921.666667  \n",
       "1669643093     281.000000    1193.000000  \n",
       "1669643605     240.000000    1166.666667  \n",
       "1669665995   90256.666667  495372.000000  \n",
       "...                   ...            ...  \n",
       "variant-2-4    828.000000    1296.666667  \n",
       "variant-2-8     16.000000      93.666667  \n",
       "variant-3-1   3146.000000     875.000000  \n",
       "variant-3-4     31.333333      31.000000  \n",
       "variant-3-9   1463.666667     666.666667  \n",
       "\n",
       "[178 rows x 6 columns]"
      ],
      "text/html": [
       "<div>\n",
       "<style scoped>\n",
       "    .dataframe tbody tr th:only-of-type {\n",
       "        vertical-align: middle;\n",
       "    }\n",
       "\n",
       "    .dataframe tbody tr th {\n",
       "        vertical-align: top;\n",
       "    }\n",
       "\n",
       "    .dataframe thead tr th {\n",
       "        text-align: left;\n",
       "    }\n",
       "\n",
       "    .dataframe thead tr:last-of-type th {\n",
       "        text-align: right;\n",
       "    }\n",
       "</style>\n",
       "<table border=\"1\" class=\"dataframe\">\n",
       "  <thead>\n",
       "    <tr>\n",
       "      <th></th>\n",
       "      <th colspan=\"2\" halign=\"left\">TOTAL_REORDER_TIME</th>\n",
       "      <th colspan=\"2\" halign=\"left\">TOTAL_TIME</th>\n",
       "      <th colspan=\"2\" halign=\"left\">WORK_TIME</th>\n",
       "    </tr>\n",
       "    <tr>\n",
       "      <th>RunConfig</th>\n",
       "      <th>FINAL</th>\n",
       "      <th>NOTHING</th>\n",
       "      <th>FINAL</th>\n",
       "      <th>NOTHING</th>\n",
       "      <th>FINAL</th>\n",
       "      <th>NOTHING</th>\n",
       "    </tr>\n",
       "    <tr>\n",
       "      <th>Spec</th>\n",
       "      <th></th>\n",
       "      <th></th>\n",
       "      <th></th>\n",
       "      <th></th>\n",
       "      <th></th>\n",
       "      <th></th>\n",
       "    </tr>\n",
       "  </thead>\n",
       "  <tbody>\n",
       "    <tr>\n",
       "      <th>1669468393</th>\n",
       "      <td>350.666667</td>\n",
       "      <td>289.333333</td>\n",
       "      <td>2400.666667</td>\n",
       "      <td>2328.000000</td>\n",
       "      <td>405.666667</td>\n",
       "      <td>364.666667</td>\n",
       "    </tr>\n",
       "    <tr>\n",
       "      <th>1669640935</th>\n",
       "      <td>511.666667</td>\n",
       "      <td>931.666667</td>\n",
       "      <td>2578.666667</td>\n",
       "      <td>3223.666667</td>\n",
       "      <td>500.333333</td>\n",
       "      <td>921.666667</td>\n",
       "    </tr>\n",
       "    <tr>\n",
       "      <th>1669643093</th>\n",
       "      <td>379.333333</td>\n",
       "      <td>1118.666667</td>\n",
       "      <td>2426.333333</td>\n",
       "      <td>3583.666667</td>\n",
       "      <td>281.000000</td>\n",
       "      <td>1193.000000</td>\n",
       "    </tr>\n",
       "    <tr>\n",
       "      <th>1669643605</th>\n",
       "      <td>371.333333</td>\n",
       "      <td>1007.333333</td>\n",
       "      <td>2396.333333</td>\n",
       "      <td>3510.666667</td>\n",
       "      <td>240.000000</td>\n",
       "      <td>1166.666667</td>\n",
       "    </tr>\n",
       "    <tr>\n",
       "      <th>1669665995</th>\n",
       "      <td>124155.666667</td>\n",
       "      <td>561568.666667</td>\n",
       "      <td>128850.333333</td>\n",
       "      <td>574895.333333</td>\n",
       "      <td>90256.666667</td>\n",
       "      <td>495372.000000</td>\n",
       "    </tr>\n",
       "    <tr>\n",
       "      <th>...</th>\n",
       "      <td>...</td>\n",
       "      <td>...</td>\n",
       "      <td>...</td>\n",
       "      <td>...</td>\n",
       "      <td>...</td>\n",
       "      <td>...</td>\n",
       "    </tr>\n",
       "    <tr>\n",
       "      <th>variant-2-4</th>\n",
       "      <td>852.000000</td>\n",
       "      <td>1431.666667</td>\n",
       "      <td>2870.000000</td>\n",
       "      <td>3416.333333</td>\n",
       "      <td>828.000000</td>\n",
       "      <td>1296.666667</td>\n",
       "    </tr>\n",
       "    <tr>\n",
       "      <th>variant-2-8</th>\n",
       "      <td>34.000000</td>\n",
       "      <td>217.000000</td>\n",
       "      <td>1969.000000</td>\n",
       "      <td>2163.000000</td>\n",
       "      <td>16.000000</td>\n",
       "      <td>93.666667</td>\n",
       "    </tr>\n",
       "    <tr>\n",
       "      <th>variant-3-1</th>\n",
       "      <td>2467.666667</td>\n",
       "      <td>1438.666667</td>\n",
       "      <td>5307.333333</td>\n",
       "      <td>3692.000000</td>\n",
       "      <td>3146.000000</td>\n",
       "      <td>875.000000</td>\n",
       "    </tr>\n",
       "    <tr>\n",
       "      <th>variant-3-4</th>\n",
       "      <td>235.000000</td>\n",
       "      <td>172.000000</td>\n",
       "      <td>2385.333333</td>\n",
       "      <td>2307.333333</td>\n",
       "      <td>31.333333</td>\n",
       "      <td>31.000000</td>\n",
       "    </tr>\n",
       "    <tr>\n",
       "      <th>variant-3-9</th>\n",
       "      <td>1336.666667</td>\n",
       "      <td>1317.666667</td>\n",
       "      <td>3750.000000</td>\n",
       "      <td>3740.000000</td>\n",
       "      <td>1463.666667</td>\n",
       "      <td>666.666667</td>\n",
       "    </tr>\n",
       "  </tbody>\n",
       "</table>\n",
       "<p>178 rows × 6 columns</p>\n",
       "</div>"
      ]
     },
     "execution_count": 271,
     "metadata": {},
     "output_type": "execute_result"
    }
   ],
   "execution_count": 271
  },
  {
   "cell_type": "code",
   "metadata": {
    "id": "w_BdcgjWRUci",
    "ExecuteTime": {
     "end_time": "2024-10-19T20:42:20.394103Z",
     "start_time": "2024-10-19T20:42:20.367289Z"
    }
   },
   "source": [
    "print(\"MODE:all\")\n",
    "print(f'SPEC AMOUNT: {len(pivot_df)}')\n",
    "geometric_averages = result_analysis.get_geometric_avg(pivot_df,runconfigs,baseline_runconfig)\n"
   ],
   "outputs": [
    {
     "name": "stdout",
     "output_type": "stream",
     "text": [
      "MODE:all\n",
      "SPEC AMOUNT: 178\n",
      "is_any_null_or_nonpositive True\n",
      "is_any_null_or_nonpositive False\n",
      "is_any_null_or_nonpositive False\n",
      "is_any_null_or_nonpositive False\n",
      "is_any_null_or_nonpositive True\n",
      "is_any_null_or_nonpositive False\n",
      "                               Geometric Average\n",
      "Heuristic                                       \n",
      "(TOTAL_REORDER_TIME, FINAL)             0.000000\n",
      "(TOTAL_REORDER_TIME, NOTHING)           1.000000\n",
      "(TOTAL_TIME, FINAL)                     0.830938\n",
      "(TOTAL_TIME, NOTHING)                   1.000000\n",
      "(WORK_TIME, FINAL)                      0.000000\n",
      "(WORK_TIME, NOTHING)                    1.000000\n"
     ]
    }
   ],
   "execution_count": 272
  },
  {
   "cell_type": "code",
   "metadata": {
    "ExecuteTime": {
     "end_time": "2024-10-19T20:42:20.583469Z",
     "start_time": "2024-10-19T20:42:20.577085Z"
    }
   },
   "source": [
    "def above_threshold_geo_avg(pivot_df, runconfigs, baseline_runconfig, percentile=80):\n",
    "    print(f\"MODE: top {100-percentile}%\")\n",
    "        \n",
    "    # Calculate the Xth percentile value\n",
    "    threshold = pivot_df['WORK_TIME']['NOTHING'].quantile(percentile/100)\n",
    "    \n",
    "    # Keep only the rows above or equal to the threshold\n",
    "    pivot_df_temp = pivot_df[pivot_df['WORK_TIME']['NOTHING'] >= threshold]\n",
    "    \n",
    "    print(f'len {len(pivot_df_temp)}')\n",
    "    \n",
    "    geometric_averages = result_analysis.get_geometric_avg(pivot_df_temp, runconfigs, baseline_runconfig)\n",
    "    \n",
    "    return geometric_averages\n"
   ],
   "outputs": [],
   "execution_count": 273
  },
  {
   "metadata": {},
   "cell_type": "markdown",
   "source": "### Ratio based on top %"
  },
  {
   "cell_type": "code",
   "metadata": {
    "ExecuteTime": {
     "end_time": "2024-10-19T20:42:20.709254Z",
     "start_time": "2024-10-19T20:42:20.682206Z"
    }
   },
   "source": [
    "above_threshold_geo_avg(pivot_df,runconfigs,baseline_runconfig,percentile=50)"
   ],
   "outputs": [
    {
     "name": "stdout",
     "output_type": "stream",
     "text": [
      "MODE: top 50%\n",
      "len 89\n",
      "is_any_null_or_nonpositive False\n",
      "is_any_null_or_nonpositive False\n",
      "is_any_null_or_nonpositive False\n",
      "is_any_null_or_nonpositive False\n",
      "is_any_null_or_nonpositive False\n",
      "is_any_null_or_nonpositive False\n",
      "                               Geometric Average\n",
      "Heuristic                                       \n",
      "(TOTAL_REORDER_TIME, FINAL)             0.537182\n",
      "(TOTAL_REORDER_TIME, NOTHING)           1.000000\n",
      "(TOTAL_TIME, FINAL)                     0.836443\n",
      "(TOTAL_TIME, NOTHING)                   1.000000\n",
      "(WORK_TIME, FINAL)                      0.634430\n",
      "(WORK_TIME, NOTHING)                    1.000000\n"
     ]
    },
    {
     "data": {
      "text/plain": [
       "{('TOTAL_REORDER_TIME', 'FINAL'): 0.5371817634528933,\n",
       " ('TOTAL_REORDER_TIME', 'NOTHING'): 1.0,\n",
       " ('TOTAL_TIME', 'FINAL'): 0.8364434831660321,\n",
       " ('TOTAL_TIME', 'NOTHING'): 1.0,\n",
       " ('WORK_TIME', 'FINAL'): 0.6344303856387596,\n",
       " ('WORK_TIME', 'NOTHING'): 1.0}"
      ]
     },
     "execution_count": 274,
     "metadata": {},
     "output_type": "execute_result"
    }
   ],
   "execution_count": 274
  },
  {
   "cell_type": "code",
   "metadata": {
    "ExecuteTime": {
     "end_time": "2024-10-19T20:42:21.273053Z",
     "start_time": "2024-10-19T20:42:21.217186Z"
    }
   },
   "source": [
    "above_threshold_geo_avg(pivot_df,runconfigs,baseline_runconfig,percentile=80)"
   ],
   "outputs": [
    {
     "name": "stdout",
     "output_type": "stream",
     "text": [
      "MODE: top 20%\n",
      "len 36\n",
      "is_any_null_or_nonpositive False\n",
      "is_any_null_or_nonpositive False\n",
      "is_any_null_or_nonpositive False\n",
      "is_any_null_or_nonpositive False\n",
      "is_any_null_or_nonpositive False\n",
      "is_any_null_or_nonpositive False\n",
      "                               Geometric Average\n",
      "Heuristic                                       \n",
      "(TOTAL_REORDER_TIME, FINAL)             0.551000\n",
      "(TOTAL_REORDER_TIME, NOTHING)           1.000000\n",
      "(TOTAL_TIME, FINAL)                     0.741491\n",
      "(TOTAL_TIME, NOTHING)                   1.000000\n",
      "(WORK_TIME, FINAL)                      0.576674\n",
      "(WORK_TIME, NOTHING)                    1.000000\n"
     ]
    },
    {
     "data": {
      "text/plain": [
       "{('TOTAL_REORDER_TIME', 'FINAL'): 0.5510003002170973,\n",
       " ('TOTAL_REORDER_TIME', 'NOTHING'): 1.0,\n",
       " ('TOTAL_TIME', 'FINAL'): 0.7414907599688618,\n",
       " ('TOTAL_TIME', 'NOTHING'): 1.0,\n",
       " ('WORK_TIME', 'FINAL'): 0.5766741627433969,\n",
       " ('WORK_TIME', 'NOTHING'): 1.0}"
      ]
     },
     "execution_count": 275,
     "metadata": {},
     "output_type": "execute_result"
    }
   ],
   "execution_count": 275
  },
  {
   "metadata": {
    "ExecuteTime": {
     "end_time": "2024-10-19T20:42:21.723507Z",
     "start_time": "2024-10-19T20:42:21.700141Z"
    }
   },
   "cell_type": "code",
   "source": [
    "# Ratio\n",
    "above_threshold_geo_avg(pivot_df,runconfigs,baseline_runconfig,percentile=50)"
   ],
   "outputs": [
    {
     "name": "stdout",
     "output_type": "stream",
     "text": [
      "MODE: top 50%\n",
      "len 89\n",
      "is_any_null_or_nonpositive False\n",
      "is_any_null_or_nonpositive False\n",
      "is_any_null_or_nonpositive False\n",
      "is_any_null_or_nonpositive False\n",
      "is_any_null_or_nonpositive False\n",
      "is_any_null_or_nonpositive False\n",
      "                               Geometric Average\n",
      "Heuristic                                       \n",
      "(TOTAL_REORDER_TIME, FINAL)             0.537182\n",
      "(TOTAL_REORDER_TIME, NOTHING)           1.000000\n",
      "(TOTAL_TIME, FINAL)                     0.836443\n",
      "(TOTAL_TIME, NOTHING)                   1.000000\n",
      "(WORK_TIME, FINAL)                      0.634430\n",
      "(WORK_TIME, NOTHING)                    1.000000\n"
     ]
    },
    {
     "data": {
      "text/plain": [
       "{('TOTAL_REORDER_TIME', 'FINAL'): 0.5371817634528933,\n",
       " ('TOTAL_REORDER_TIME', 'NOTHING'): 1.0,\n",
       " ('TOTAL_TIME', 'FINAL'): 0.8364434831660321,\n",
       " ('TOTAL_TIME', 'NOTHING'): 1.0,\n",
       " ('WORK_TIME', 'FINAL'): 0.6344303856387596,\n",
       " ('WORK_TIME', 'NOTHING'): 1.0}"
      ]
     },
     "execution_count": 276,
     "metadata": {},
     "output_type": "execute_result"
    }
   ],
   "execution_count": 276
  },
  {
   "metadata": {
    "ExecuteTime": {
     "end_time": "2024-10-19T20:42:22.988231Z",
     "start_time": "2024-10-19T20:42:21.914387Z"
    }
   },
   "cell_type": "code",
   "source": [
    "metric_columns = ['WORK_TIME','TOTAL_TIME','TOTAL_REORDER_TIME','Y_FIXPOINTS']\n",
    "pivot_df = result_analysis.pivot(df_grouped_no_timeout,metric_columns )\n",
    "\n",
    "unreal = df.groupby('Spec')['Result'].agg(lambda x: all(x=='SYS_UNREAL'))\n",
    "pivot_df_unreal = pivot_df[pivot_df.index.isin(unreal[unreal].index)]\n",
    "\n",
    "\n",
    "print(\"MODE:unreal\")\n",
    "print(f'SPEC AMOUNT: {len(pivot_df)}')\n",
    "geometric_averages = result_analysis.get_geometric_avg(pivot_df_unreal,runconfigs,baseline_runconfig)"
   ],
   "outputs": [
    {
     "name": "stdout",
     "output_type": "stream",
     "text": [
      "MODE:unreal\n",
      "SPEC AMOUNT: 178\n"
     ]
    },
    {
     "ename": "KeyError",
     "evalue": "'Y_FIXPOINTS'",
     "output_type": "error",
     "traceback": [
      "\u001B[1;31m---------------------------------------------------------------------------\u001B[0m",
      "\u001B[1;31mKeyError\u001B[0m                                  Traceback (most recent call last)",
      "Cell \u001B[1;32mIn[277], line 10\u001B[0m\n\u001B[0;32m      8\u001B[0m \u001B[38;5;28mprint\u001B[39m(\u001B[38;5;124m\"\u001B[39m\u001B[38;5;124mMODE:unreal\u001B[39m\u001B[38;5;124m\"\u001B[39m)\n\u001B[0;32m      9\u001B[0m \u001B[38;5;28mprint\u001B[39m(\u001B[38;5;124mf\u001B[39m\u001B[38;5;124m'\u001B[39m\u001B[38;5;124mSPEC AMOUNT: \u001B[39m\u001B[38;5;132;01m{\u001B[39;00m\u001B[38;5;28mlen\u001B[39m(pivot_df)\u001B[38;5;132;01m}\u001B[39;00m\u001B[38;5;124m'\u001B[39m)\n\u001B[1;32m---> 10\u001B[0m geometric_averages \u001B[38;5;241m=\u001B[39m \u001B[43mresult_analysis\u001B[49m\u001B[38;5;241;43m.\u001B[39;49m\u001B[43mget_geometric_avg\u001B[49m\u001B[43m(\u001B[49m\u001B[43mpivot_df_unreal\u001B[49m\u001B[43m,\u001B[49m\u001B[43mrunconfigs\u001B[49m\u001B[43m,\u001B[49m\u001B[43mbaseline_runconfig\u001B[49m\u001B[43m)\u001B[49m\n",
      "File \u001B[1;32m~\\OneDrive - mail.tau.ac.il\\MSCCode\\GR1Heuristics2025Artifact\\analysis\\result_analysis.py:30\u001B[0m, in \u001B[0;36mget_geometric_avg\u001B[1;34m(pivot_df, runconfigs, baseline_config)\u001B[0m\n\u001B[0;32m     28\u001B[0m pivot_df \u001B[38;5;241m=\u001B[39m pivot_df\u001B[38;5;241m.\u001B[39mcopy()\n\u001B[0;32m     29\u001B[0m \u001B[38;5;28;01mfor\u001B[39;00m col \u001B[38;5;129;01min\u001B[39;00m pivot_df\u001B[38;5;241m.\u001B[39mcolumns\u001B[38;5;241m.\u001B[39mlevels[\u001B[38;5;241m0\u001B[39m]:\n\u001B[1;32m---> 30\u001B[0m     pivot_df[col] \u001B[38;5;241m=\u001B[39m \u001B[43mpivot_df\u001B[49m\u001B[43m[\u001B[49m\u001B[43mcol\u001B[49m\u001B[43m]\u001B[49m\u001B[38;5;241m.\u001B[39mdiv(pivot_df[col][baseline_config], axis\u001B[38;5;241m=\u001B[39m\u001B[38;5;241m0\u001B[39m)\n\u001B[0;32m     32\u001B[0m geometric_averages \u001B[38;5;241m=\u001B[39m {}\n\u001B[0;32m     33\u001B[0m \u001B[38;5;28;01mfor\u001B[39;00m column \u001B[38;5;129;01min\u001B[39;00m pivot_df\u001B[38;5;241m.\u001B[39mcolumns:\n",
      "File \u001B[1;32m~\\AppData\\Local\\Programs\\Python\\Python312\\Lib\\site-packages\\pandas\\core\\frame.py:4101\u001B[0m, in \u001B[0;36mDataFrame.__getitem__\u001B[1;34m(self, key)\u001B[0m\n\u001B[0;32m   4099\u001B[0m \u001B[38;5;28;01mif\u001B[39;00m is_single_key:\n\u001B[0;32m   4100\u001B[0m     \u001B[38;5;28;01mif\u001B[39;00m \u001B[38;5;28mself\u001B[39m\u001B[38;5;241m.\u001B[39mcolumns\u001B[38;5;241m.\u001B[39mnlevels \u001B[38;5;241m>\u001B[39m \u001B[38;5;241m1\u001B[39m:\n\u001B[1;32m-> 4101\u001B[0m         \u001B[38;5;28;01mreturn\u001B[39;00m \u001B[38;5;28;43mself\u001B[39;49m\u001B[38;5;241;43m.\u001B[39;49m\u001B[43m_getitem_multilevel\u001B[49m\u001B[43m(\u001B[49m\u001B[43mkey\u001B[49m\u001B[43m)\u001B[49m\n\u001B[0;32m   4102\u001B[0m     indexer \u001B[38;5;241m=\u001B[39m \u001B[38;5;28mself\u001B[39m\u001B[38;5;241m.\u001B[39mcolumns\u001B[38;5;241m.\u001B[39mget_loc(key)\n\u001B[0;32m   4103\u001B[0m     \u001B[38;5;28;01mif\u001B[39;00m is_integer(indexer):\n",
      "File \u001B[1;32m~\\AppData\\Local\\Programs\\Python\\Python312\\Lib\\site-packages\\pandas\\core\\frame.py:4159\u001B[0m, in \u001B[0;36mDataFrame._getitem_multilevel\u001B[1;34m(self, key)\u001B[0m\n\u001B[0;32m   4157\u001B[0m \u001B[38;5;28;01mdef\u001B[39;00m \u001B[38;5;21m_getitem_multilevel\u001B[39m(\u001B[38;5;28mself\u001B[39m, key):\n\u001B[0;32m   4158\u001B[0m     \u001B[38;5;66;03m# self.columns is a MultiIndex\u001B[39;00m\n\u001B[1;32m-> 4159\u001B[0m     loc \u001B[38;5;241m=\u001B[39m \u001B[38;5;28;43mself\u001B[39;49m\u001B[38;5;241;43m.\u001B[39;49m\u001B[43mcolumns\u001B[49m\u001B[38;5;241;43m.\u001B[39;49m\u001B[43mget_loc\u001B[49m\u001B[43m(\u001B[49m\u001B[43mkey\u001B[49m\u001B[43m)\u001B[49m\n\u001B[0;32m   4160\u001B[0m     \u001B[38;5;28;01mif\u001B[39;00m \u001B[38;5;28misinstance\u001B[39m(loc, (\u001B[38;5;28mslice\u001B[39m, np\u001B[38;5;241m.\u001B[39mndarray)):\n\u001B[0;32m   4161\u001B[0m         new_columns \u001B[38;5;241m=\u001B[39m \u001B[38;5;28mself\u001B[39m\u001B[38;5;241m.\u001B[39mcolumns[loc]\n",
      "File \u001B[1;32m~\\AppData\\Local\\Programs\\Python\\Python312\\Lib\\site-packages\\pandas\\core\\indexes\\multi.py:3040\u001B[0m, in \u001B[0;36mMultiIndex.get_loc\u001B[1;34m(self, key)\u001B[0m\n\u001B[0;32m   3037\u001B[0m     \u001B[38;5;28;01mreturn\u001B[39;00m mask\n\u001B[0;32m   3039\u001B[0m \u001B[38;5;28;01mif\u001B[39;00m \u001B[38;5;129;01mnot\u001B[39;00m \u001B[38;5;28misinstance\u001B[39m(key, \u001B[38;5;28mtuple\u001B[39m):\n\u001B[1;32m-> 3040\u001B[0m     loc \u001B[38;5;241m=\u001B[39m \u001B[38;5;28;43mself\u001B[39;49m\u001B[38;5;241;43m.\u001B[39;49m\u001B[43m_get_level_indexer\u001B[49m\u001B[43m(\u001B[49m\u001B[43mkey\u001B[49m\u001B[43m,\u001B[49m\u001B[43m \u001B[49m\u001B[43mlevel\u001B[49m\u001B[38;5;241;43m=\u001B[39;49m\u001B[38;5;241;43m0\u001B[39;49m\u001B[43m)\u001B[49m\n\u001B[0;32m   3041\u001B[0m     \u001B[38;5;28;01mreturn\u001B[39;00m _maybe_to_slice(loc)\n\u001B[0;32m   3043\u001B[0m keylen \u001B[38;5;241m=\u001B[39m \u001B[38;5;28mlen\u001B[39m(key)\n",
      "File \u001B[1;32m~\\AppData\\Local\\Programs\\Python\\Python312\\Lib\\site-packages\\pandas\\core\\indexes\\multi.py:3418\u001B[0m, in \u001B[0;36mMultiIndex._get_level_indexer\u001B[1;34m(self, key, level, indexer)\u001B[0m\n\u001B[0;32m   3414\u001B[0m     end \u001B[38;5;241m=\u001B[39m algos\u001B[38;5;241m.\u001B[39msearchsorted(level_codes, idx, side\u001B[38;5;241m=\u001B[39m\u001B[38;5;124m\"\u001B[39m\u001B[38;5;124mright\u001B[39m\u001B[38;5;124m\"\u001B[39m)\n\u001B[0;32m   3416\u001B[0m \u001B[38;5;28;01mif\u001B[39;00m start \u001B[38;5;241m==\u001B[39m end:\n\u001B[0;32m   3417\u001B[0m     \u001B[38;5;66;03m# The label is present in self.levels[level] but unused:\u001B[39;00m\n\u001B[1;32m-> 3418\u001B[0m     \u001B[38;5;28;01mraise\u001B[39;00m \u001B[38;5;167;01mKeyError\u001B[39;00m(key)\n\u001B[0;32m   3419\u001B[0m \u001B[38;5;28;01mreturn\u001B[39;00m \u001B[38;5;28mslice\u001B[39m(start, end)\n",
      "\u001B[1;31mKeyError\u001B[0m: 'Y_FIXPOINTS'"
     ]
    }
   ],
   "execution_count": 277
  }
 ],
 "metadata": {
  "colab": {
   "collapsed_sections": [
    "zdzSFGAyA6EB"
   ],
   "provenance": [],
   "toc_visible": true
  },
  "kernelspec": {
   "display_name": "Python 3 (ipykernel)",
   "language": "python",
   "name": "python3"
  },
  "language_info": {
   "name": "python"
  }
 },
 "nbformat": 4,
 "nbformat_minor": 0
}
