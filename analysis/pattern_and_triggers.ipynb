{
 "cells": [
  {
   "cell_type": "markdown",
   "metadata": {
    "id": "ydE-A3C6ConM"
   },
   "source": [
    "# EVALUATION NOTEBOOK for TACAS 2025 PAPER"
   ]
  },
  {
   "cell_type": "markdown",
   "metadata": {
    "id": "AhfnZwEWYlOk"
   },
   "source": [
    "# Pattern & Triggers\n",
    "Receieve data from a run with ACTIONTYPE=NOTHING but NEW_TRIGGER=true"
   ]
  },
  {
   "cell_type": "code",
   "metadata": {
    "ExecuteTime": {
     "end_time": "2024-10-19T21:07:24.362277Z",
     "start_time": "2024-10-19T21:07:24.358762Z"
    }
   },
   "source": [
    "import helper_methods\n",
    "import load_data\n",
    "import group_methods\n",
    "import result_analysis\n",
    "import numpy as np\n",
    "import validate\n",
    "import pandas as pd\n",
    "import patterns_triggers"
   ],
   "outputs": [],
   "execution_count": 23
  },
  {
   "cell_type": "code",
   "metadata": {
    "id": "11a3jB4qbJvm",
    "ExecuteTime": {
     "end_time": "2024-10-19T21:07:24.451799Z",
     "start_time": "2024-10-19T21:07:24.402110Z"
    }
   },
   "source": [
    "df = load_data.load_data_mult('analysis_csv')\n",
    "limited_df = helper_methods.get_df_rows_no_timeout(df)[['Spec','UNIQUE_PATTERNS','PATTERN_INSTANCES','TRIGGER_INSTANCES']].drop_duplicates().reset_index(drop=True)\n",
    "df_len = len(limited_df)\n",
    "print(f\"amount of rows:{df_len}\")\n",
    "limited_df"
   ],
   "outputs": [
    {
     "name": "stdout",
     "output_type": "stream",
     "text": [
      "Found 2 CSV file(s) in the 'analysis_csv' directory.\n",
      "Loaded: all_runs_new_SPLIT1_ws1_20241009_235902.csv\n",
      "Number of specs in this file: 80\n",
      "Loaded: all_runs_new_SPLIT2_ws2_20241009_221236.csv\n",
      "Number of specs in this file: 98\n",
      "Total number of files loaded: 2\n",
      "Total Specs: 178\n",
      "Final DataFrame shape: (1068, 88)\n",
      "amount of rows:178\n"
     ]
    },
    {
     "data": {
      "text/plain": [
       "                    Spec            UNIQUE_PATTERNS  PATTERN_INSTANCES  \\\n",
       "0             1670057023   S_responds_to_P_globally                  3   \n",
       "1             1669965418   S_responds_to_P_globally                  2   \n",
       "2             1669902814   S_responds_to_P_globally                  2   \n",
       "3    RobotsMPUnlabelled3                        NaN                  0   \n",
       "4             1669665995                        NaN                  0   \n",
       "..                   ...                        ...                ...   \n",
       "173           1670436736                        NaN                  0   \n",
       "174           1670542951  P_is_true_After_Q_until_R                  3   \n",
       "175           1672062051                        NaN                  0   \n",
       "176           1670601332                        NaN                  0   \n",
       "177           1672060813                        NaN                  0   \n",
       "\n",
       "     TRIGGER_INSTANCES  \n",
       "0                    1  \n",
       "1                    0  \n",
       "2                    0  \n",
       "3                    0  \n",
       "4                    0  \n",
       "..                 ...  \n",
       "173                  3  \n",
       "174                  0  \n",
       "175                  2  \n",
       "176                  0  \n",
       "177                  2  \n",
       "\n",
       "[178 rows x 4 columns]"
      ],
      "text/html": [
       "<div>\n",
       "<style scoped>\n",
       "    .dataframe tbody tr th:only-of-type {\n",
       "        vertical-align: middle;\n",
       "    }\n",
       "\n",
       "    .dataframe tbody tr th {\n",
       "        vertical-align: top;\n",
       "    }\n",
       "\n",
       "    .dataframe thead th {\n",
       "        text-align: right;\n",
       "    }\n",
       "</style>\n",
       "<table border=\"1\" class=\"dataframe\">\n",
       "  <thead>\n",
       "    <tr style=\"text-align: right;\">\n",
       "      <th></th>\n",
       "      <th>Spec</th>\n",
       "      <th>UNIQUE_PATTERNS</th>\n",
       "      <th>PATTERN_INSTANCES</th>\n",
       "      <th>TRIGGER_INSTANCES</th>\n",
       "    </tr>\n",
       "  </thead>\n",
       "  <tbody>\n",
       "    <tr>\n",
       "      <th>0</th>\n",
       "      <td>1670057023</td>\n",
       "      <td>S_responds_to_P_globally</td>\n",
       "      <td>3</td>\n",
       "      <td>1</td>\n",
       "    </tr>\n",
       "    <tr>\n",
       "      <th>1</th>\n",
       "      <td>1669965418</td>\n",
       "      <td>S_responds_to_P_globally</td>\n",
       "      <td>2</td>\n",
       "      <td>0</td>\n",
       "    </tr>\n",
       "    <tr>\n",
       "      <th>2</th>\n",
       "      <td>1669902814</td>\n",
       "      <td>S_responds_to_P_globally</td>\n",
       "      <td>2</td>\n",
       "      <td>0</td>\n",
       "    </tr>\n",
       "    <tr>\n",
       "      <th>3</th>\n",
       "      <td>RobotsMPUnlabelled3</td>\n",
       "      <td>NaN</td>\n",
       "      <td>0</td>\n",
       "      <td>0</td>\n",
       "    </tr>\n",
       "    <tr>\n",
       "      <th>4</th>\n",
       "      <td>1669665995</td>\n",
       "      <td>NaN</td>\n",
       "      <td>0</td>\n",
       "      <td>0</td>\n",
       "    </tr>\n",
       "    <tr>\n",
       "      <th>...</th>\n",
       "      <td>...</td>\n",
       "      <td>...</td>\n",
       "      <td>...</td>\n",
       "      <td>...</td>\n",
       "    </tr>\n",
       "    <tr>\n",
       "      <th>173</th>\n",
       "      <td>1670436736</td>\n",
       "      <td>NaN</td>\n",
       "      <td>0</td>\n",
       "      <td>3</td>\n",
       "    </tr>\n",
       "    <tr>\n",
       "      <th>174</th>\n",
       "      <td>1670542951</td>\n",
       "      <td>P_is_true_After_Q_until_R</td>\n",
       "      <td>3</td>\n",
       "      <td>0</td>\n",
       "    </tr>\n",
       "    <tr>\n",
       "      <th>175</th>\n",
       "      <td>1672062051</td>\n",
       "      <td>NaN</td>\n",
       "      <td>0</td>\n",
       "      <td>2</td>\n",
       "    </tr>\n",
       "    <tr>\n",
       "      <th>176</th>\n",
       "      <td>1670601332</td>\n",
       "      <td>NaN</td>\n",
       "      <td>0</td>\n",
       "      <td>0</td>\n",
       "    </tr>\n",
       "    <tr>\n",
       "      <th>177</th>\n",
       "      <td>1672060813</td>\n",
       "      <td>NaN</td>\n",
       "      <td>0</td>\n",
       "      <td>2</td>\n",
       "    </tr>\n",
       "  </tbody>\n",
       "</table>\n",
       "<p>178 rows × 4 columns</p>\n",
       "</div>"
      ]
     },
     "execution_count": 24,
     "metadata": {},
     "output_type": "execute_result"
    }
   ],
   "execution_count": 24
  },
  {
   "cell_type": "markdown",
   "metadata": {
    "id": "HVhvSIhRVFNQ"
   },
   "source": [
    "## Pattern Data"
   ]
  },
  {
   "cell_type": "code",
   "metadata": {
    "id": "cRzHYOGSaAxA",
    "ExecuteTime": {
     "end_time": "2024-10-19T21:07:24.533499Z",
     "start_time": "2024-10-19T21:07:24.524669Z"
    }
   },
   "source": [
    "# Combine all patterns into a single list\n",
    "all_patterns = limited_df['UNIQUE_PATTERNS'].str.split(',').explode().dropna()\n",
    "\n",
    "# Create a dictionary to count the usage of each pattern\n",
    "pattern_usage = all_patterns.value_counts().to_dict()\n",
    "\n",
    "# Get unique patterns\n",
    "unique_patterns = all_patterns.drop_duplicates()\n",
    "\n",
    "# Count the amount of unique patterns\n",
    "unique_pattern_count = len(unique_patterns)\n",
    "\n",
    "# Print the total amount and proportion of unique patterns\n",
    "total_patterns = len(all_patterns)\n",
    "print(f\"Total patterns used: {total_patterns}\")\n",
    "print(f\"Unique patterns: {unique_pattern_count}\")\n",
    "print(f\"Proportion of unique patterns: {unique_pattern_count / total_patterns:.2%}\")\n",
    "\n",
    "# Filter specs that don't have patterns\n",
    "pattern_df = df[df['PATTERN_INSTANCES'] > 0]\n",
    "\n",
    "# Count the amount of patterns with instances\n",
    "pattern_count = len(pattern_df)\n",
    "\n",
    "# Print the proportion of patterns with instances\n",
    "df_len = len(df)  # Assuming df is defined elsewhere\n",
    "print(f\"Patterns with instances: {pattern_count}\")\n",
    "print(f\"Proportion of patterns with instances: {pattern_count / df_len:.2%}\")\n",
    "\n",
    "# Print the usage count for each pattern\n",
    "print(\"\\nPattern usage counts:\")\n",
    "for pattern, count in pattern_usage.items():\n",
    "    print(f\"{pattern}: {count}\")\n"
   ],
   "outputs": [
    {
     "name": "stdout",
     "output_type": "stream",
     "text": [
      "Total patterns used: 107\n",
      "Unique patterns: 10\n",
      "Proportion of unique patterns: 9.35%\n",
      "Patterns with instances: 588\n",
      "Proportion of patterns with instances: 55.06%\n",
      "\n",
      "Pattern usage counts:\n",
      "S_responds_to_P_globally: 73\n",
      "P_is_false_before_R: 7\n",
      "P_becomes_true_between_Q_and_R: 6\n",
      "P_becomes_true_after_Q_until_R: 6\n",
      "P_is_true_After_Q_until_R: 4\n",
      "P_becomes_true_After_Q: 4\n",
      "P_is_false_after_Q_until_R: 3\n",
      "P_is_true_between_Q_and_R: 2\n",
      "P_becomes_true_before_R: 1\n",
      "P_is_false_between_Q_and_R: 1\n"
     ]
    }
   ],
   "execution_count": 25
  },
  {
   "cell_type": "code",
   "metadata": {
    "id": "Oo-ezshB_UzD",
    "ExecuteTime": {
     "end_time": "2024-10-19T21:07:24.631806Z",
     "start_time": "2024-10-19T21:07:24.609699Z"
    }
   },
   "source": [
    "# Filter specs that have patterns\n",
    "def keep_first_if_equal(group):\n",
    "    if group.nunique() == 1:\n",
    "        return group.iloc[0]\n",
    "    else:\n",
    "        return pd.Series(np.nan, index=group.index)\n",
    "\n",
    "no_duplicates_df = df[['Spec','PATTERN_INSTANCES','UNIQUE_PATTERNS']].groupby('Spec').agg({keep_first_if_equal})\n",
    "no_duplicates_df\n"
   ],
   "outputs": [
    {
     "data": {
      "text/plain": [
       "              PATTERN_INSTANCES  \\\n",
       "            keep_first_if_equal   \n",
       "Spec                              \n",
       "1669468393                    0   \n",
       "1669640935                    2   \n",
       "1669643093                    2   \n",
       "1669643605                    2   \n",
       "1669665995                    0   \n",
       "...                         ...   \n",
       "variant-2-4                   6   \n",
       "variant-2-8                   6   \n",
       "variant-3-1                   0   \n",
       "variant-3-4                   0   \n",
       "variant-3-9                   1   \n",
       "\n",
       "                                               UNIQUE_PATTERNS  \n",
       "                                           keep_first_if_equal  \n",
       "Spec                                                            \n",
       "1669468393                      [nan, nan, nan, nan, nan, nan]  \n",
       "1669640935                            S_responds_to_P_globally  \n",
       "1669643093                            S_responds_to_P_globally  \n",
       "1669643605                            S_responds_to_P_globally  \n",
       "1669665995                      [nan, nan, nan, nan, nan, nan]  \n",
       "...                                                        ...  \n",
       "variant-2-4  P_becomes_true_after_Q_until_R,P_is_false_afte...  \n",
       "variant-2-8  P_is_false_after_Q_until_R,S_responds_to_P_glo...  \n",
       "variant-3-1                     [nan, nan, nan, nan, nan, nan]  \n",
       "variant-3-4                     [nan, nan, nan, nan, nan, nan]  \n",
       "variant-3-9                           S_responds_to_P_globally  \n",
       "\n",
       "[178 rows x 2 columns]"
      ],
      "text/html": [
       "<div>\n",
       "<style scoped>\n",
       "    .dataframe tbody tr th:only-of-type {\n",
       "        vertical-align: middle;\n",
       "    }\n",
       "\n",
       "    .dataframe tbody tr th {\n",
       "        vertical-align: top;\n",
       "    }\n",
       "\n",
       "    .dataframe thead tr th {\n",
       "        text-align: left;\n",
       "    }\n",
       "\n",
       "    .dataframe thead tr:last-of-type th {\n",
       "        text-align: right;\n",
       "    }\n",
       "</style>\n",
       "<table border=\"1\" class=\"dataframe\">\n",
       "  <thead>\n",
       "    <tr>\n",
       "      <th></th>\n",
       "      <th>PATTERN_INSTANCES</th>\n",
       "      <th>UNIQUE_PATTERNS</th>\n",
       "    </tr>\n",
       "    <tr>\n",
       "      <th></th>\n",
       "      <th>keep_first_if_equal</th>\n",
       "      <th>keep_first_if_equal</th>\n",
       "    </tr>\n",
       "    <tr>\n",
       "      <th>Spec</th>\n",
       "      <th></th>\n",
       "      <th></th>\n",
       "    </tr>\n",
       "  </thead>\n",
       "  <tbody>\n",
       "    <tr>\n",
       "      <th>1669468393</th>\n",
       "      <td>0</td>\n",
       "      <td>[nan, nan, nan, nan, nan, nan]</td>\n",
       "    </tr>\n",
       "    <tr>\n",
       "      <th>1669640935</th>\n",
       "      <td>2</td>\n",
       "      <td>S_responds_to_P_globally</td>\n",
       "    </tr>\n",
       "    <tr>\n",
       "      <th>1669643093</th>\n",
       "      <td>2</td>\n",
       "      <td>S_responds_to_P_globally</td>\n",
       "    </tr>\n",
       "    <tr>\n",
       "      <th>1669643605</th>\n",
       "      <td>2</td>\n",
       "      <td>S_responds_to_P_globally</td>\n",
       "    </tr>\n",
       "    <tr>\n",
       "      <th>1669665995</th>\n",
       "      <td>0</td>\n",
       "      <td>[nan, nan, nan, nan, nan, nan]</td>\n",
       "    </tr>\n",
       "    <tr>\n",
       "      <th>...</th>\n",
       "      <td>...</td>\n",
       "      <td>...</td>\n",
       "    </tr>\n",
       "    <tr>\n",
       "      <th>variant-2-4</th>\n",
       "      <td>6</td>\n",
       "      <td>P_becomes_true_after_Q_until_R,P_is_false_afte...</td>\n",
       "    </tr>\n",
       "    <tr>\n",
       "      <th>variant-2-8</th>\n",
       "      <td>6</td>\n",
       "      <td>P_is_false_after_Q_until_R,S_responds_to_P_glo...</td>\n",
       "    </tr>\n",
       "    <tr>\n",
       "      <th>variant-3-1</th>\n",
       "      <td>0</td>\n",
       "      <td>[nan, nan, nan, nan, nan, nan]</td>\n",
       "    </tr>\n",
       "    <tr>\n",
       "      <th>variant-3-4</th>\n",
       "      <td>0</td>\n",
       "      <td>[nan, nan, nan, nan, nan, nan]</td>\n",
       "    </tr>\n",
       "    <tr>\n",
       "      <th>variant-3-9</th>\n",
       "      <td>1</td>\n",
       "      <td>S_responds_to_P_globally</td>\n",
       "    </tr>\n",
       "  </tbody>\n",
       "</table>\n",
       "<p>178 rows × 2 columns</p>\n",
       "</div>"
      ]
     },
     "execution_count": 26,
     "metadata": {},
     "output_type": "execute_result"
    }
   ],
   "execution_count": 26
  },
  {
   "cell_type": "code",
   "metadata": {
    "id": "kOcOOWHMcLH7",
    "ExecuteTime": {
     "end_time": "2024-10-19T21:07:24.731966Z",
     "start_time": "2024-10-19T21:07:24.727116Z"
    }
   },
   "source": [
    "all_patterns"
   ],
   "outputs": [
    {
     "data": {
      "text/plain": [
       "0            S_responds_to_P_globally\n",
       "1            S_responds_to_P_globally\n",
       "2            S_responds_to_P_globally\n",
       "5            S_responds_to_P_globally\n",
       "6            S_responds_to_P_globally\n",
       "                    ...              \n",
       "164          S_responds_to_P_globally\n",
       "167    P_becomes_true_after_Q_until_R\n",
       "170          S_responds_to_P_globally\n",
       "171          S_responds_to_P_globally\n",
       "174         P_is_true_After_Q_until_R\n",
       "Name: UNIQUE_PATTERNS, Length: 107, dtype: object"
      ]
     },
     "execution_count": 27,
     "metadata": {},
     "output_type": "execute_result"
    }
   ],
   "execution_count": 27
  },
  {
   "cell_type": "markdown",
   "metadata": {
    "id": "_8QxpePqVJLb"
   },
   "source": [
    "## Trigger Data"
   ]
  },
  {
   "cell_type": "code",
   "metadata": {
    "id": "Wp5RIbSVanXM",
    "ExecuteTime": {
     "end_time": "2024-10-19T21:07:24.905551Z",
     "start_time": "2024-10-19T21:07:24.900929Z"
    }
   },
   "source": [
    "# Filter rows where TRIGGER_INSTANCES > 0\n",
    "trigger_df = limited_df[limited_df['TRIGGER_INSTANCES'] > 0]\n",
    "\n",
    "# Count the amount of triggers\n",
    "trigger_count = len(trigger_df)\n",
    "\n",
    "# Print the proportion of triggers\n",
    "print(f\" Specs with Triggers: {trigger_count}\")\n",
    "print(f\"Proportion of triggers: {trigger_count / len(limited_df):.2%}\")"
   ],
   "outputs": [
    {
     "name": "stdout",
     "output_type": "stream",
     "text": [
      " Specs with Triggers: 55\n",
      "Proportion of triggers: 30.90%\n"
     ]
    }
   ],
   "execution_count": 28
  },
  {
   "cell_type": "markdown",
   "metadata": {
    "id": "Aq4HGQ9FYRR-"
   },
   "source": [
    "## Stats for Pattern and Trigger Reduction"
   ]
  },
  {
   "cell_type": "code",
   "metadata": {
    "id": "n2-Oaj1uT7Cu",
    "ExecuteTime": {
     "end_time": "2024-10-19T21:07:25.156009Z",
     "start_time": "2024-10-19T21:07:25.147953Z"
    }
   },
   "source": [
    "df['REDUCED_PATTERN']"
   ],
   "outputs": [
    {
     "data": {
      "text/plain": [
       "0       []\n",
       "1       []\n",
       "2       []\n",
       "3       []\n",
       "4       []\n",
       "        ..\n",
       "1063    []\n",
       "1064    []\n",
       "1065    []\n",
       "1066    []\n",
       "1067    []\n",
       "Name: REDUCED_PATTERN, Length: 1068, dtype: object"
      ]
     },
     "execution_count": 29,
     "metadata": {},
     "output_type": "execute_result"
    }
   ],
   "execution_count": 29
  },
  {
   "cell_type": "code",
   "metadata": {
    "id": "rpUbxsP9YU38",
    "ExecuteTime": {
     "end_time": "2024-10-19T21:07:25.424913Z",
     "start_time": "2024-10-19T21:07:25.400748Z"
    }
   },
   "source": [
    "df_no_timeout = helper_methods.get_df_rows_no_timeout(df)\n",
    "\n",
    "# Process Patterns\n",
    "print(\"Analysis for SPECS WITH PATTERNS:\")\n",
    "df_with_pattern = df_no_timeout[df_no_timeout['PATTERN_INSTANCES'] > 0]\n",
    "patterns_triggers.get_prop(df_with_pattern, 'REDUCED_PATTERN', ['REMOVED_VAR', 'REMOVED_JUSTICE', 'REMOVED_HOLE'])\n",
    "\n",
    "print(\"\\nAnalysis for SPECS WITH REDUCIBLE PATTERNS:\")\n",
    "df_with_reducible_patterns = df_no_timeout[df_no_timeout['REDUCED_PATTERN'].apply(lambda x: 'REMOVED_HOLE' in patterns_triggers.string_to_set(x))]\n",
    "patterns_triggers.get_prop(df_with_reducible_patterns, 'REDUCED_PATTERN', ['REMOVED_VAR', 'REMOVED_JUSTICE', 'REMOVED_HOLE'])\n",
    "\n",
    "# Process Triggers\n",
    "df_with_trigger = df_no_timeout[df_no_timeout['TRIGGER_INSTANCES'] > 0]\n",
    "print(\"\\nAnalysis for SPECS WITH TRIGGERS:\")\n",
    "patterns_triggers.get_prop(df_with_trigger, 'REDUCED_TRIGGER', ['REMOVED_JUSTICE', 'REMOVED_HOLE'])\n",
    "\n",
    "print(\"\\nAnalysis for SPECS REDUCABLE TRIGGERS:\")\n",
    "df_with_reducible_triggers = df_no_timeout[df_no_timeout['REDUCED_TRIGGER'].apply(lambda x: 'REMOVED_HOLE' in patterns_triggers.string_to_set(x))]\n",
    "patterns_triggers.get_prop(df_with_reducible_triggers, 'REDUCED_TRIGGER', ['REMOVED_VAR','REMOVED_JUSTICE', 'REMOVED_HOLE'])"
   ],
   "outputs": [
    {
     "name": "stdout",
     "output_type": "stream",
     "text": [
      "Analysis for SPECS WITH PATTERNS:\n",
      "Proportion of specs with REMOVED_VAR: 9.18% (54/588)\n",
      "Proportion of specs with REMOVED_JUSTICE: 9.18% (54/588)\n",
      "Proportion of specs with REMOVED_HOLE: 11.73% (69/588)\n",
      "\n",
      "Analysis for SPECS WITH REDUCIBLE PATTERNS:\n",
      "Proportion of specs with REMOVED_VAR: 78.26% (54/69)\n",
      "Proportion of specs with REMOVED_JUSTICE: 78.26% (54/69)\n",
      "Proportion of specs with REMOVED_HOLE: 100.00% (69/69)\n",
      "\n",
      "Analysis for SPECS WITH TRIGGERS:\n",
      "Proportion of specs with REMOVED_JUSTICE: 8.18% (27/330)\n",
      "Proportion of specs with REMOVED_HOLE: 50.00% (165/330)\n",
      "\n",
      "Analysis for SPECS REDUCABLE TRIGGERS:\n",
      "Proportion of specs with REMOVED_VAR: 12.73% (21/165)\n",
      "Proportion of specs with REMOVED_JUSTICE: 16.36% (27/165)\n",
      "Proportion of specs with REMOVED_HOLE: 100.00% (165/165)\n"
     ]
    }
   ],
   "execution_count": 30
  },
  {
   "cell_type": "markdown",
   "metadata": {
    "id": "TUR3dpv9gfER"
   },
   "source": [
    "### Ratio for JUSTICE"
   ]
  },
  {
   "cell_type": "code",
   "metadata": {
    "id": "q5wvZD6Ggeu0",
    "ExecuteTime": {
     "end_time": "2024-10-19T21:07:25.860015Z",
     "start_time": "2024-10-19T21:07:25.634955Z"
    }
   },
   "source": [
    "df_grouped = group_methods.group(df)\n",
    "df_grouped_no_timeout = helper_methods.get_df_specs_no_timeout(df_grouped)\n",
    "\n",
    "metric_columns = ['WORK_TIME', 'TOTAL_TIME']\n",
    "runconfigs = df_grouped_no_timeout['RunConfig'].unique()\n",
    "\n"
   ],
   "outputs": [],
   "execution_count": 31
  },
  {
   "cell_type": "code",
   "metadata": {
    "ExecuteTime": {
     "end_time": "2024-10-19T21:07:25.886445Z",
     "start_time": "2024-10-19T21:07:25.881087Z"
    }
   },
   "source": [
    "def get_ratio(df,is_pattern,baseline_config):\n",
    "    if is_pattern:\n",
    "        cond= \"REDUCED_PATTERN\"\n",
    "    else: \n",
    "        cond = \"REDUCED_TRIGGER\"\n",
    "    df_just = df[df[cond].apply(lambda x: 'REMOVED_JUSTICE' in patterns_triggers.string_to_set(x))]\n",
    "    df_var = df[df[cond].apply(lambda x: 'REMOVED_VAR' in patterns_triggers.string_to_set(x))]\n",
    "    df_var_just = df_just[df_just[cond].apply(lambda x: 'REMOVED_VAR' in patterns_triggers.string_to_set(x))]\n",
    "    \n",
    "    print(f\"JUSTICE REMOVED\")\n",
    "    pivot_df = result_analysis.pivot(df_just, metric_columns)\n",
    "    geometric_averages = result_analysis.get_geometric_avg(pivot_df,runconfigs,baseline_config)\n",
    "    result_analysis.print_headtohead_ratio(geometric_averages,pivot_df.columns,runconfigs)\n",
    "    \n",
    "    print(f\"VAR REMOVED\")\n",
    "    pivot_df = result_analysis.pivot(df_var, metric_columns)\n",
    "    geometric_averages = result_analysis.get_geometric_avg(pivot_df,runconfigs,baseline_config)\n",
    "    result_analysis.print_headtohead_ratio(geometric_averages,pivot_df.columns,runconfigs)\n",
    "    \n",
    "    print(f\"VAR AND JUSTICE REMOVED\")\n",
    "    pivot_df = result_analysis.pivot(df_var_just, metric_columns)\n",
    "    geometric_averages = result_analysis.get_geometric_avg(pivot_df,runconfigs,baseline_config)\n",
    "    result_analysis.print_headtohead_ratio(geometric_averages,pivot_df.columns,runconfigs)\n"
   ],
   "outputs": [],
   "execution_count": 32
  },
  {
   "cell_type": "markdown",
   "metadata": {},
   "source": [
    "### Ratio for Justice Triggers"
   ]
  },
  {
   "cell_type": "markdown",
   "metadata": {
    "id": "OkW67IfbVYB_"
   },
   "source": [
    "## Filter To Get SYNTECH-PATTERNS"
   ]
  },
  {
   "cell_type": "code",
   "metadata": {
    "id": "Nxj1vYmcWKQo",
    "ExecuteTime": {
     "end_time": "2024-10-19T21:07:25.963493Z",
     "start_time": "2024-10-19T21:07:25.951361Z"
    }
   },
   "source": [
    "from jupyter_server import files\n",
    "\n",
    "\n",
    "def save_csv(name, csv):\n",
    "    # Save to a CSV file\n",
    "    csv_filename = name\n",
    "    csv.to_csv(csv_filename, index=False)\n",
    "\n",
    "    # Download the file\n",
    "    files.download(csv_filename)\n"
   ],
   "outputs": [],
   "execution_count": 33
  },
  {
   "cell_type": "markdown",
   "metadata": {},
   "source": [
    "## Verify REMOVED VAR"
   ]
  },
  {
   "cell_type": "code",
   "metadata": {
    "ExecuteTime": {
     "end_time": "2024-10-19T21:07:26.055128Z",
     "start_time": "2024-10-19T21:07:26.029402Z"
    }
   },
   "source": [
    "# Assuming patterns_triggers.string_to_set() is a defined function\n",
    "\n",
    "removed_pattern_var = df['REDUCED_PATTERN'].apply(lambda x: 'REMOVED_VAR' in patterns_triggers.string_to_set(x))\n",
    "removed_trigger_var = df['REDUCED_TRIGGER'].apply(lambda x: 'REMOVED_VAR' in patterns_triggers.string_to_set(x))\n",
    "\n",
    "# Verify that REMOVED_VAR actually removed\n",
    "actual_removed_var = df.groupby('Spec')['TOTAL_DOMS'].agg(lambda x: x.nunique() == 1)\n",
    "\n",
    "if not np.array_equal(actual_removed_var, (removed_trigger_var | removed_pattern_var | actual_removed_var)):\n",
    "    raise ValueError(\"The conditions are not equal\")"
   ],
   "outputs": [
    {
     "ename": "ValueError",
     "evalue": "The conditions are not equal",
     "output_type": "error",
     "traceback": [
      "\u001B[1;31m---------------------------------------------------------------------------\u001B[0m",
      "\u001B[1;31mValueError\u001B[0m                                Traceback (most recent call last)",
      "Cell \u001B[1;32mIn[34], line 10\u001B[0m\n\u001B[0;32m      7\u001B[0m actual_removed_var \u001B[38;5;241m=\u001B[39m df\u001B[38;5;241m.\u001B[39mgroupby(\u001B[38;5;124m'\u001B[39m\u001B[38;5;124mSpec\u001B[39m\u001B[38;5;124m'\u001B[39m)[\u001B[38;5;124m'\u001B[39m\u001B[38;5;124mTOTAL_DOMS\u001B[39m\u001B[38;5;124m'\u001B[39m]\u001B[38;5;241m.\u001B[39magg(\u001B[38;5;28;01mlambda\u001B[39;00m x: x\u001B[38;5;241m.\u001B[39mnunique() \u001B[38;5;241m==\u001B[39m \u001B[38;5;241m1\u001B[39m)\n\u001B[0;32m      9\u001B[0m \u001B[38;5;28;01mif\u001B[39;00m \u001B[38;5;129;01mnot\u001B[39;00m np\u001B[38;5;241m.\u001B[39marray_equal(actual_removed_var, (removed_trigger_var \u001B[38;5;241m|\u001B[39m removed_pattern_var \u001B[38;5;241m|\u001B[39m actual_removed_var)):\n\u001B[1;32m---> 10\u001B[0m     \u001B[38;5;28;01mraise\u001B[39;00m \u001B[38;5;167;01mValueError\u001B[39;00m(\u001B[38;5;124m\"\u001B[39m\u001B[38;5;124mThe conditions are not equal\u001B[39m\u001B[38;5;124m\"\u001B[39m)\n",
      "\u001B[1;31mValueError\u001B[0m: The conditions are not equal"
     ]
    }
   ],
   "execution_count": 34
  },
  {
   "cell_type": "code",
   "execution_count": null,
   "metadata": {
    "id": "AcAy4n95VXM8"
   },
   "outputs": [],
   "source": [
    "temp = df[['Spec']].copy()\n",
    "temp['keep'] = df['REDUCED_PATTERN'].apply(lambda x: 'REMOVED_HOLE' in patterns_triggers.string_to_set(x))\n",
    "temp = temp.filter(['Spec','keep'])\n",
    "temp['keep'] =temp['keep'].replace({False:0,True:1})\n",
    "\n",
    "save_csv('reduced_patterns.csv', temp)\n"
   ]
  },
  {
   "cell_type": "markdown",
   "metadata": {
    "id": "bGS1zP0UVdaD"
   },
   "source": [
    "## Filter to Get SYNTECH-TRIGGERS"
   ]
  },
  {
   "cell_type": "code",
   "execution_count": null,
   "metadata": {
    "id": "YWrNz3MOVgrS"
   },
   "outputs": [],
   "source": [
    "temp = df[['Spec']].copy()\n",
    "temp['keep'] = df['REDUCED_TRIGGER'].apply(lambda x: 'REMOVED_HOLE' in patterns_triggers.string_to_set(x))\n",
    "temp = temp.filter(['Spec','keep'])\n",
    "temp['keep'] =temp['keep'].replace({False:0,True:1})\n",
    "\n",
    "save_csv('reduced_triggers.csv', temp)\n"
   ]
  }
 ],
 "metadata": {
  "colab": {
   "collapsed_sections": [
    "zdzSFGAyA6EB"
   ],
   "provenance": [],
   "toc_visible": true
  },
  "kernelspec": {
   "display_name": "Python 3 (ipykernel)",
   "language": "python",
   "name": "python3"
  },
  "language_info": {
   "name": "python"
  }
 },
 "nbformat": 4,
 "nbformat_minor": 0
}
